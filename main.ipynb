{
 "cells": [
  {
   "cell_type": "code",
   "execution_count": 2,
   "metadata": {
    "collapsed": true
   },
   "outputs": [
    {
     "name": "stdout",
     "output_type": "stream",
     "text": [
      "/bin/bash: /home/lezchook/miniconda3/envs/tf/lib/libtinfo.so.6: no version information available (required by /bin/bash)\n",
      "Requirement already satisfied: numpy in /home/lezchook/miniconda3/envs/tf/lib/python3.9/site-packages (1.23.5)\n",
      "Note: you may need to restart the kernel to use updated packages.\n"
     ]
    }
   ],
   "source": [
    "pip install numpy"
   ]
  },
  {
   "cell_type": "code",
   "execution_count": 4,
   "metadata": {
    "collapsed": true
   },
   "outputs": [
    {
     "name": "stdout",
     "output_type": "stream",
     "text": [
      "/bin/bash: /home/lezchook/miniconda3/envs/tf/lib/libtinfo.so.6: no version information available (required by /bin/bash)\n",
      "Collecting pandas\n",
      "  Downloading pandas-2.0.2-cp39-cp39-manylinux_2_17_x86_64.manylinux2014_x86_64.whl (12.4 MB)\n",
      "\u001b[2K     \u001b[90m━━━━━━━━━━━━━━━━━━━━━━━━━━━━━━━━━━━━━━━━\u001b[0m \u001b[32m12.4/12.4 MB\u001b[0m \u001b[31m9.3 MB/s\u001b[0m eta \u001b[36m0:00:00\u001b[0m00:01\u001b[0mm00:01\u001b[0m\n",
      "\u001b[?25hRequirement already satisfied: python-dateutil>=2.8.2 in /home/lezchook/miniconda3/envs/tf/lib/python3.9/site-packages (from pandas) (2.8.2)\n",
      "Collecting pytz>=2020.1 (from pandas)\n",
      "  Downloading pytz-2023.3-py2.py3-none-any.whl (502 kB)\n",
      "\u001b[2K     \u001b[90m━━━━━━━━━━━━━━━━━━━━━━━━━━━━━━━━━━━━━━━\u001b[0m \u001b[32m502.3/502.3 kB\u001b[0m \u001b[31m4.0 MB/s\u001b[0m eta \u001b[36m0:00:00\u001b[0ma \u001b[36m0:00:01\u001b[0m\n",
      "\u001b[?25hCollecting tzdata>=2022.1 (from pandas)\n",
      "  Downloading tzdata-2023.3-py2.py3-none-any.whl (341 kB)\n",
      "\u001b[2K     \u001b[90m━━━━━━━━━━━━━━━━━━━━━━━━━━━━━━━━━━━━━━━\u001b[0m \u001b[32m341.8/341.8 kB\u001b[0m \u001b[31m3.0 MB/s\u001b[0m eta \u001b[36m0:00:00\u001b[0ma \u001b[36m0:00:01\u001b[0m\n",
      "\u001b[?25hRequirement already satisfied: numpy>=1.20.3 in /home/lezchook/miniconda3/envs/tf/lib/python3.9/site-packages (from pandas) (1.23.5)\n",
      "Requirement already satisfied: six>=1.5 in /home/lezchook/miniconda3/envs/tf/lib/python3.9/site-packages (from python-dateutil>=2.8.2->pandas) (1.16.0)\n",
      "Installing collected packages: pytz, tzdata, pandas\n",
      "Successfully installed pandas-2.0.2 pytz-2023.3 tzdata-2023.3\n",
      "Note: you may need to restart the kernel to use updated packages.\n"
     ]
    }
   ],
   "source": [
    "pip install pandas"
   ]
  },
  {
   "cell_type": "code",
   "execution_count": 37,
   "metadata": {
    "collapsed": true
   },
   "outputs": [
    {
     "name": "stdout",
     "output_type": "stream",
     "text": [
      "/bin/bash: /home/lezchook/miniconda3/envs/tf/lib/libtinfo.so.6: no version information available (required by /bin/bash)\n",
      "Collecting scikit-learn\n",
      "  Downloading scikit_learn-1.2.2-cp39-cp39-manylinux_2_17_x86_64.manylinux2014_x86_64.whl (9.6 MB)\n",
      "\u001b[2K     \u001b[90m━━━━━━━━━━━━━━━━━━━━━━━━━━━━━━━━━━━━━━━━\u001b[0m \u001b[32m9.6/9.6 MB\u001b[0m \u001b[31m2.3 MB/s\u001b[0m eta \u001b[36m0:00:00\u001b[0m00:01\u001b[0m00:01\u001b[0m\n",
      "\u001b[?25hRequirement already satisfied: numpy>=1.17.3 in /home/lezchook/miniconda3/envs/tf/lib/python3.9/site-packages (from scikit-learn) (1.23.5)\n",
      "Requirement already satisfied: scipy>=1.3.2 in /home/lezchook/miniconda3/envs/tf/lib/python3.9/site-packages (from scikit-learn) (1.10.1)\n",
      "Collecting joblib>=1.1.1 (from scikit-learn)\n",
      "  Downloading joblib-1.2.0-py3-none-any.whl (297 kB)\n",
      "\u001b[2K     \u001b[90m━━━━━━━━━━━━━━━━━━━━━━━━━━━━━━━━━━━━━━━\u001b[0m \u001b[32m298.0/298.0 kB\u001b[0m \u001b[31m1.5 MB/s\u001b[0m eta \u001b[36m0:00:00\u001b[0ma \u001b[36m0:00:01\u001b[0m\n",
      "\u001b[?25hCollecting threadpoolctl>=2.0.0 (from scikit-learn)\n",
      "  Downloading threadpoolctl-3.1.0-py3-none-any.whl (14 kB)\n",
      "Installing collected packages: threadpoolctl, joblib, scikit-learn\n",
      "Successfully installed joblib-1.2.0 scikit-learn-1.2.2 threadpoolctl-3.1.0\n",
      "Note: you may need to restart the kernel to use updated packages.\n"
     ]
    }
   ],
   "source": [
    "pip install scikit-learn"
   ]
  },
  {
   "cell_type": "code",
   "execution_count": 49,
   "metadata": {
    "collapsed": true
   },
   "outputs": [
    {
     "name": "stdout",
     "output_type": "stream",
     "text": [
      "/bin/bash: /home/lezchook/miniconda3/envs/tf/lib/libtinfo.so.6: no version information available (required by /bin/bash)\n",
      "Collecting matplotlib\n",
      "  Downloading matplotlib-3.7.1-cp39-cp39-manylinux_2_17_x86_64.manylinux2014_x86_64.whl (11.6 MB)\n",
      "\u001b[2K     \u001b[90m━━━━━━━━━━━━━━━━━━━━━━━━━━━━━━━━━━━━━━━━\u001b[0m \u001b[32m11.6/11.6 MB\u001b[0m \u001b[31m3.5 MB/s\u001b[0m eta \u001b[36m0:00:00\u001b[0m00:01\u001b[0m00:01\u001b[0m\n",
      "\u001b[?25hCollecting contourpy>=1.0.1 (from matplotlib)\n",
      "  Downloading contourpy-1.0.7-cp39-cp39-manylinux_2_17_x86_64.manylinux2014_x86_64.whl (299 kB)\n",
      "\u001b[2K     \u001b[90m━━━━━━━━━━━━━━━━━━━━━━━━━━━━━━━━━━━━━━━\u001b[0m \u001b[32m299.7/299.7 kB\u001b[0m \u001b[31m2.1 MB/s\u001b[0m eta \u001b[36m0:00:00\u001b[0m00:01\u001b[0m00:01\u001b[0m\n",
      "\u001b[?25hCollecting cycler>=0.10 (from matplotlib)\n",
      "  Downloading cycler-0.11.0-py3-none-any.whl (6.4 kB)\n",
      "Collecting fonttools>=4.22.0 (from matplotlib)\n",
      "  Downloading fonttools-4.39.4-py3-none-any.whl (1.0 MB)\n",
      "\u001b[2K     \u001b[90m━━━━━━━━━━━━━━━━━━━━━━━━━━━━━━━━━━━━━━━━\u001b[0m \u001b[32m1.0/1.0 MB\u001b[0m \u001b[31m2.4 MB/s\u001b[0m eta \u001b[36m0:00:00\u001b[0m00:01\u001b[0m00:01\u001b[0m\n",
      "\u001b[?25hCollecting kiwisolver>=1.0.1 (from matplotlib)\n",
      "  Downloading kiwisolver-1.4.4-cp39-cp39-manylinux_2_12_x86_64.manylinux2010_x86_64.whl (1.6 MB)\n",
      "\u001b[2K     \u001b[90m━━━━━━━━━━━━━━━━━━━━━━━━━━━━━━━━━━━━━━━━\u001b[0m \u001b[32m1.6/1.6 MB\u001b[0m \u001b[31m2.7 MB/s\u001b[0m eta \u001b[36m0:00:00\u001b[0ma \u001b[36m0:00:01\u001b[0m\n",
      "\u001b[?25hRequirement already satisfied: numpy>=1.20 in /home/lezchook/miniconda3/envs/tf/lib/python3.9/site-packages (from matplotlib) (1.23.5)\n",
      "Requirement already satisfied: packaging>=20.0 in /home/lezchook/miniconda3/envs/tf/lib/python3.9/site-packages (from matplotlib) (23.1)\n",
      "Collecting pillow>=6.2.0 (from matplotlib)\n",
      "  Downloading Pillow-9.5.0-cp39-cp39-manylinux_2_28_x86_64.whl (3.4 MB)\n",
      "\u001b[2K     \u001b[90m━━━━━━━━━━━━━━━━━━━━━━━━━━━━━━━━━━━━━━━━\u001b[0m \u001b[32m3.4/3.4 MB\u001b[0m \u001b[31m2.4 MB/s\u001b[0m eta \u001b[36m0:00:00\u001b[0m00:01\u001b[0m00:01\u001b[0m\n",
      "\u001b[?25hCollecting pyparsing>=2.3.1 (from matplotlib)\n",
      "  Downloading pyparsing-3.0.9-py3-none-any.whl (98 kB)\n",
      "\u001b[2K     \u001b[90m━━━━━━━━━━━━━━━━━━━━━━━━━━━━━━━━━━━━━━━━\u001b[0m \u001b[32m98.3/98.3 kB\u001b[0m \u001b[31m1.8 MB/s\u001b[0m eta \u001b[36m0:00:00\u001b[0ma \u001b[36m0:00:01\u001b[0m\n",
      "\u001b[?25hRequirement already satisfied: python-dateutil>=2.7 in /home/lezchook/miniconda3/envs/tf/lib/python3.9/site-packages (from matplotlib) (2.8.2)\n",
      "Collecting importlib-resources>=3.2.0 (from matplotlib)\n",
      "  Downloading importlib_resources-5.12.0-py3-none-any.whl (36 kB)\n",
      "Requirement already satisfied: zipp>=3.1.0 in /home/lezchook/miniconda3/envs/tf/lib/python3.9/site-packages (from importlib-resources>=3.2.0->matplotlib) (3.15.0)\n",
      "Requirement already satisfied: six>=1.5 in /home/lezchook/miniconda3/envs/tf/lib/python3.9/site-packages (from python-dateutil>=2.7->matplotlib) (1.16.0)\n",
      "Installing collected packages: pyparsing, pillow, kiwisolver, importlib-resources, fonttools, cycler, contourpy, matplotlib\n",
      "Successfully installed contourpy-1.0.7 cycler-0.11.0 fonttools-4.39.4 importlib-resources-5.12.0 kiwisolver-1.4.4 matplotlib-3.7.1 pillow-9.5.0 pyparsing-3.0.9\n",
      "Note: you may need to restart the kernel to use updated packages.\n"
     ]
    }
   ],
   "source": [
    "pip install matplotlib"
   ]
  },
  {
   "cell_type": "code",
   "execution_count": 50,
   "metadata": {
    "ExecuteTime": {
     "end_time": "2023-05-29T18:23:20.715005Z",
     "start_time": "2023-05-29T18:23:20.697148Z"
    }
   },
   "outputs": [],
   "source": [
    "import numpy as np\n",
    "import pandas as pd"
   ]
  },
  {
   "cell_type": "code",
   "execution_count": 51,
   "metadata": {
    "ExecuteTime": {
     "end_time": "2023-05-29T18:23:20.772467Z",
     "start_time": "2023-05-29T18:23:20.700124Z"
    }
   },
   "outputs": [
    {
     "data": {
      "text/html": [
       "<div>\n",
       "<style scoped>\n",
       "    .dataframe tbody tr th:only-of-type {\n",
       "        vertical-align: middle;\n",
       "    }\n",
       "\n",
       "    .dataframe tbody tr th {\n",
       "        vertical-align: top;\n",
       "    }\n",
       "\n",
       "    .dataframe thead th {\n",
       "        text-align: right;\n",
       "    }\n",
       "</style>\n",
       "<table border=\"1\" class=\"dataframe\">\n",
       "  <thead>\n",
       "    <tr style=\"text-align: right;\">\n",
       "      <th></th>\n",
       "      <th>PassengerId</th>\n",
       "      <th>Pclass</th>\n",
       "      <th>Name</th>\n",
       "      <th>Sex</th>\n",
       "      <th>Age</th>\n",
       "      <th>SibSp</th>\n",
       "      <th>Parch</th>\n",
       "      <th>Ticket</th>\n",
       "      <th>Fare</th>\n",
       "      <th>Cabin</th>\n",
       "      <th>Embarked</th>\n",
       "    </tr>\n",
       "  </thead>\n",
       "  <tbody>\n",
       "    <tr>\n",
       "      <th>0</th>\n",
       "      <td>892</td>\n",
       "      <td>3</td>\n",
       "      <td>Kelly, Mr. James</td>\n",
       "      <td>male</td>\n",
       "      <td>34.5</td>\n",
       "      <td>0</td>\n",
       "      <td>0</td>\n",
       "      <td>330911</td>\n",
       "      <td>7.8292</td>\n",
       "      <td>NaN</td>\n",
       "      <td>Q</td>\n",
       "    </tr>\n",
       "    <tr>\n",
       "      <th>1</th>\n",
       "      <td>893</td>\n",
       "      <td>3</td>\n",
       "      <td>Wilkes, Mrs. James (Ellen Needs)</td>\n",
       "      <td>female</td>\n",
       "      <td>47.0</td>\n",
       "      <td>1</td>\n",
       "      <td>0</td>\n",
       "      <td>363272</td>\n",
       "      <td>7.0000</td>\n",
       "      <td>NaN</td>\n",
       "      <td>S</td>\n",
       "    </tr>\n",
       "    <tr>\n",
       "      <th>2</th>\n",
       "      <td>894</td>\n",
       "      <td>2</td>\n",
       "      <td>Myles, Mr. Thomas Francis</td>\n",
       "      <td>male</td>\n",
       "      <td>62.0</td>\n",
       "      <td>0</td>\n",
       "      <td>0</td>\n",
       "      <td>240276</td>\n",
       "      <td>9.6875</td>\n",
       "      <td>NaN</td>\n",
       "      <td>Q</td>\n",
       "    </tr>\n",
       "    <tr>\n",
       "      <th>3</th>\n",
       "      <td>895</td>\n",
       "      <td>3</td>\n",
       "      <td>Wirz, Mr. Albert</td>\n",
       "      <td>male</td>\n",
       "      <td>27.0</td>\n",
       "      <td>0</td>\n",
       "      <td>0</td>\n",
       "      <td>315154</td>\n",
       "      <td>8.6625</td>\n",
       "      <td>NaN</td>\n",
       "      <td>S</td>\n",
       "    </tr>\n",
       "    <tr>\n",
       "      <th>4</th>\n",
       "      <td>896</td>\n",
       "      <td>3</td>\n",
       "      <td>Hirvonen, Mrs. Alexander (Helga E Lindqvist)</td>\n",
       "      <td>female</td>\n",
       "      <td>22.0</td>\n",
       "      <td>1</td>\n",
       "      <td>1</td>\n",
       "      <td>3101298</td>\n",
       "      <td>12.2875</td>\n",
       "      <td>NaN</td>\n",
       "      <td>S</td>\n",
       "    </tr>\n",
       "    <tr>\n",
       "      <th>...</th>\n",
       "      <td>...</td>\n",
       "      <td>...</td>\n",
       "      <td>...</td>\n",
       "      <td>...</td>\n",
       "      <td>...</td>\n",
       "      <td>...</td>\n",
       "      <td>...</td>\n",
       "      <td>...</td>\n",
       "      <td>...</td>\n",
       "      <td>...</td>\n",
       "      <td>...</td>\n",
       "    </tr>\n",
       "    <tr>\n",
       "      <th>413</th>\n",
       "      <td>1305</td>\n",
       "      <td>3</td>\n",
       "      <td>Spector, Mr. Woolf</td>\n",
       "      <td>male</td>\n",
       "      <td>NaN</td>\n",
       "      <td>0</td>\n",
       "      <td>0</td>\n",
       "      <td>A.5. 3236</td>\n",
       "      <td>8.0500</td>\n",
       "      <td>NaN</td>\n",
       "      <td>S</td>\n",
       "    </tr>\n",
       "    <tr>\n",
       "      <th>414</th>\n",
       "      <td>1306</td>\n",
       "      <td>1</td>\n",
       "      <td>Oliva y Ocana, Dona. Fermina</td>\n",
       "      <td>female</td>\n",
       "      <td>39.0</td>\n",
       "      <td>0</td>\n",
       "      <td>0</td>\n",
       "      <td>PC 17758</td>\n",
       "      <td>108.9000</td>\n",
       "      <td>C105</td>\n",
       "      <td>C</td>\n",
       "    </tr>\n",
       "    <tr>\n",
       "      <th>415</th>\n",
       "      <td>1307</td>\n",
       "      <td>3</td>\n",
       "      <td>Saether, Mr. Simon Sivertsen</td>\n",
       "      <td>male</td>\n",
       "      <td>38.5</td>\n",
       "      <td>0</td>\n",
       "      <td>0</td>\n",
       "      <td>SOTON/O.Q. 3101262</td>\n",
       "      <td>7.2500</td>\n",
       "      <td>NaN</td>\n",
       "      <td>S</td>\n",
       "    </tr>\n",
       "    <tr>\n",
       "      <th>416</th>\n",
       "      <td>1308</td>\n",
       "      <td>3</td>\n",
       "      <td>Ware, Mr. Frederick</td>\n",
       "      <td>male</td>\n",
       "      <td>NaN</td>\n",
       "      <td>0</td>\n",
       "      <td>0</td>\n",
       "      <td>359309</td>\n",
       "      <td>8.0500</td>\n",
       "      <td>NaN</td>\n",
       "      <td>S</td>\n",
       "    </tr>\n",
       "    <tr>\n",
       "      <th>417</th>\n",
       "      <td>1309</td>\n",
       "      <td>3</td>\n",
       "      <td>Peter, Master. Michael J</td>\n",
       "      <td>male</td>\n",
       "      <td>NaN</td>\n",
       "      <td>1</td>\n",
       "      <td>1</td>\n",
       "      <td>2668</td>\n",
       "      <td>22.3583</td>\n",
       "      <td>NaN</td>\n",
       "      <td>C</td>\n",
       "    </tr>\n",
       "  </tbody>\n",
       "</table>\n",
       "<p>418 rows × 11 columns</p>\n",
       "</div>"
      ],
      "text/plain": [
       "     PassengerId  Pclass                                          Name  \\\n",
       "0            892       3                              Kelly, Mr. James   \n",
       "1            893       3              Wilkes, Mrs. James (Ellen Needs)   \n",
       "2            894       2                     Myles, Mr. Thomas Francis   \n",
       "3            895       3                              Wirz, Mr. Albert   \n",
       "4            896       3  Hirvonen, Mrs. Alexander (Helga E Lindqvist)   \n",
       "..           ...     ...                                           ...   \n",
       "413         1305       3                            Spector, Mr. Woolf   \n",
       "414         1306       1                  Oliva y Ocana, Dona. Fermina   \n",
       "415         1307       3                  Saether, Mr. Simon Sivertsen   \n",
       "416         1308       3                           Ware, Mr. Frederick   \n",
       "417         1309       3                      Peter, Master. Michael J   \n",
       "\n",
       "        Sex   Age  SibSp  Parch              Ticket      Fare Cabin Embarked  \n",
       "0      male  34.5      0      0              330911    7.8292   NaN        Q  \n",
       "1    female  47.0      1      0              363272    7.0000   NaN        S  \n",
       "2      male  62.0      0      0              240276    9.6875   NaN        Q  \n",
       "3      male  27.0      0      0              315154    8.6625   NaN        S  \n",
       "4    female  22.0      1      1             3101298   12.2875   NaN        S  \n",
       "..      ...   ...    ...    ...                 ...       ...   ...      ...  \n",
       "413    male   NaN      0      0           A.5. 3236    8.0500   NaN        S  \n",
       "414  female  39.0      0      0            PC 17758  108.9000  C105        C  \n",
       "415    male  38.5      0      0  SOTON/O.Q. 3101262    7.2500   NaN        S  \n",
       "416    male   NaN      0      0              359309    8.0500   NaN        S  \n",
       "417    male   NaN      1      1                2668   22.3583   NaN        C  \n",
       "\n",
       "[418 rows x 11 columns]"
      ]
     },
     "execution_count": 51,
     "metadata": {},
     "output_type": "execute_result"
    }
   ],
   "source": [
    "train_data = pd.read_csv('train.csv')\n",
    "test_data = pd.read_csv('test.csv')\n",
    "test_data"
   ]
  },
  {
   "cell_type": "code",
   "execution_count": 52,
   "metadata": {
    "ExecuteTime": {
     "end_time": "2023-05-29T18:23:20.772963Z",
     "start_time": "2023-05-29T18:23:20.721245Z"
    }
   },
   "outputs": [
    {
     "data": {
      "text/html": [
       "<div>\n",
       "<style scoped>\n",
       "    .dataframe tbody tr th:only-of-type {\n",
       "        vertical-align: middle;\n",
       "    }\n",
       "\n",
       "    .dataframe tbody tr th {\n",
       "        vertical-align: top;\n",
       "    }\n",
       "\n",
       "    .dataframe thead th {\n",
       "        text-align: right;\n",
       "    }\n",
       "</style>\n",
       "<table border=\"1\" class=\"dataframe\">\n",
       "  <thead>\n",
       "    <tr style=\"text-align: right;\">\n",
       "      <th></th>\n",
       "      <th>PassengerId</th>\n",
       "      <th>Pclass</th>\n",
       "      <th>SibSp</th>\n",
       "      <th>Parch</th>\n",
       "      <th>Sex_female</th>\n",
       "      <th>Sex_male</th>\n",
       "    </tr>\n",
       "  </thead>\n",
       "  <tbody>\n",
       "    <tr>\n",
       "      <th>0</th>\n",
       "      <td>892</td>\n",
       "      <td>3</td>\n",
       "      <td>0</td>\n",
       "      <td>0</td>\n",
       "      <td>0.0</td>\n",
       "      <td>1.0</td>\n",
       "    </tr>\n",
       "    <tr>\n",
       "      <th>1</th>\n",
       "      <td>893</td>\n",
       "      <td>3</td>\n",
       "      <td>1</td>\n",
       "      <td>0</td>\n",
       "      <td>1.0</td>\n",
       "      <td>0.0</td>\n",
       "    </tr>\n",
       "    <tr>\n",
       "      <th>2</th>\n",
       "      <td>894</td>\n",
       "      <td>2</td>\n",
       "      <td>0</td>\n",
       "      <td>0</td>\n",
       "      <td>0.0</td>\n",
       "      <td>1.0</td>\n",
       "    </tr>\n",
       "    <tr>\n",
       "      <th>3</th>\n",
       "      <td>895</td>\n",
       "      <td>3</td>\n",
       "      <td>0</td>\n",
       "      <td>0</td>\n",
       "      <td>0.0</td>\n",
       "      <td>1.0</td>\n",
       "    </tr>\n",
       "    <tr>\n",
       "      <th>4</th>\n",
       "      <td>896</td>\n",
       "      <td>3</td>\n",
       "      <td>1</td>\n",
       "      <td>1</td>\n",
       "      <td>1.0</td>\n",
       "      <td>0.0</td>\n",
       "    </tr>\n",
       "    <tr>\n",
       "      <th>...</th>\n",
       "      <td>...</td>\n",
       "      <td>...</td>\n",
       "      <td>...</td>\n",
       "      <td>...</td>\n",
       "      <td>...</td>\n",
       "      <td>...</td>\n",
       "    </tr>\n",
       "    <tr>\n",
       "      <th>413</th>\n",
       "      <td>1305</td>\n",
       "      <td>3</td>\n",
       "      <td>0</td>\n",
       "      <td>0</td>\n",
       "      <td>0.0</td>\n",
       "      <td>1.0</td>\n",
       "    </tr>\n",
       "    <tr>\n",
       "      <th>414</th>\n",
       "      <td>1306</td>\n",
       "      <td>1</td>\n",
       "      <td>0</td>\n",
       "      <td>0</td>\n",
       "      <td>1.0</td>\n",
       "      <td>0.0</td>\n",
       "    </tr>\n",
       "    <tr>\n",
       "      <th>415</th>\n",
       "      <td>1307</td>\n",
       "      <td>3</td>\n",
       "      <td>0</td>\n",
       "      <td>0</td>\n",
       "      <td>0.0</td>\n",
       "      <td>1.0</td>\n",
       "    </tr>\n",
       "    <tr>\n",
       "      <th>416</th>\n",
       "      <td>1308</td>\n",
       "      <td>3</td>\n",
       "      <td>0</td>\n",
       "      <td>0</td>\n",
       "      <td>0.0</td>\n",
       "      <td>1.0</td>\n",
       "    </tr>\n",
       "    <tr>\n",
       "      <th>417</th>\n",
       "      <td>1309</td>\n",
       "      <td>3</td>\n",
       "      <td>1</td>\n",
       "      <td>1</td>\n",
       "      <td>0.0</td>\n",
       "      <td>1.0</td>\n",
       "    </tr>\n",
       "  </tbody>\n",
       "</table>\n",
       "<p>418 rows × 6 columns</p>\n",
       "</div>"
      ],
      "text/plain": [
       "     PassengerId  Pclass  SibSp  Parch  Sex_female  Sex_male\n",
       "0            892       3      0      0         0.0       1.0\n",
       "1            893       3      1      0         1.0       0.0\n",
       "2            894       2      0      0         0.0       1.0\n",
       "3            895       3      0      0         0.0       1.0\n",
       "4            896       3      1      1         1.0       0.0\n",
       "..           ...     ...    ...    ...         ...       ...\n",
       "413         1305       3      0      0         0.0       1.0\n",
       "414         1306       1      0      0         1.0       0.0\n",
       "415         1307       3      0      0         0.0       1.0\n",
       "416         1308       3      0      0         0.0       1.0\n",
       "417         1309       3      1      1         0.0       1.0\n",
       "\n",
       "[418 rows x 6 columns]"
      ]
     },
     "execution_count": 52,
     "metadata": {},
     "output_type": "execute_result"
    }
   ],
   "source": [
    "y_train = train_data['Survived']\n",
    "features = [\"Pclass\", \"Sex\", \"SibSp\", \"Parch\"]\n",
    "X_train = pd.get_dummies(train_data[features], dtype='float32')\n",
    "X_test = pd.get_dummies(test_data[['PassengerId', 'Pclass', 'Sex', 'SibSp', 'Parch']], dtype='float32')\n",
    "X_test"
   ]
  },
  {
   "cell_type": "code",
   "execution_count": 53,
   "metadata": {
    "ExecuteTime": {
     "end_time": "2023-05-29T18:23:20.772963Z",
     "start_time": "2023-05-29T18:23:20.738345Z"
    }
   },
   "outputs": [],
   "source": [
    "X_train_array = X_train.values\n",
    "X_test_array = X_test[['Pclass', 'SibSp', 'Parch', 'Sex_female', 'Sex_male']].values"
   ]
  },
  {
   "cell_type": "code",
   "execution_count": 54,
   "metadata": {
    "ExecuteTime": {
     "end_time": "2023-05-29T18:23:20.772963Z",
     "start_time": "2023-05-29T18:23:20.747578Z"
    }
   },
   "outputs": [],
   "source": [
    "import tensorflow as tf\n",
    "tf.config.run_functions_eagerly(True)\n",
    "\n",
    "from keras.layers import Dense\n",
    "from keras.models import Sequential\n",
    "from keras.utils import to_categorical"
   ]
  },
  {
   "cell_type": "code",
   "execution_count": 55,
   "metadata": {
    "ExecuteTime": {
     "end_time": "2023-05-29T18:23:20.772963Z",
     "start_time": "2023-05-29T18:23:20.753595Z"
    }
   },
   "outputs": [],
   "source": [
    "y_train_categorical = to_categorical(y_train.values)"
   ]
  },
  {
   "cell_type": "code",
   "execution_count": 144,
   "metadata": {
    "ExecuteTime": {
     "end_time": "2023-05-29T18:43:12.561424Z",
     "start_time": "2023-05-29T18:43:12.511361Z"
    }
   },
   "outputs": [],
   "source": [
    "model = Sequential([\n",
    "    Dense(4, input_shape=(5,), activation=tf.keras.activations.relu),\n",
    "    Dense(2, activation=tf.keras.activations.softmax)\n",
    "])\n",
    "\n",
    "model.compile(optimizer=tf.keras.optimizers.SGD(learning_rate=0.01), loss=tf.keras.losses.mean_squared_error, metrics=tf.keras.metrics.categorical_accuracy)"
   ]
  },
  {
   "cell_type": "code",
   "execution_count": 145,
   "metadata": {
    "ExecuteTime": {
     "end_time": "2023-05-29T18:43:12.923657Z",
     "start_time": "2023-05-29T18:43:12.908262Z"
    }
   },
   "outputs": [],
   "source": [
    "from sklearn.preprocessing import MinMaxScaler\n",
    "\n",
    "mms = MinMaxScaler()\n",
    "X_train_norm = mms.fit_transform(X_train_array)"
   ]
  },
  {
   "cell_type": "code",
   "execution_count": 146,
   "metadata": {
    "ExecuteTime": {
     "end_time": "2023-05-29T18:43:25.531893Z",
     "start_time": "2023-05-29T18:43:13.322975Z"
    },
    "collapsed": true
   },
   "outputs": [
    {
     "name": "stdout",
     "output_type": "stream",
     "text": [
      "Epoch 1/100\n",
      " 7/23 [========>.....................] - ETA: 0s - loss: 0.2042 - categorical_accuracy: 0.7321"
     ]
    },
    {
     "name": "stderr",
     "output_type": "stream",
     "text": [
      "/home/lezchook/miniconda3/envs/tf/lib/python3.9/site-packages/tensorflow/python/data/ops/structured_function.py:254: UserWarning: Even though the `tf.config.experimental_run_functions_eagerly` option is set, this option does not apply to tf.data functions. To force eager execution of tf.data functions, please use `tf.data.experimental.enable_debug_mode()`.\n",
      "  warnings.warn(\n"
     ]
    },
    {
     "name": "stdout",
     "output_type": "stream",
     "text": [
      "23/23 [==============================] - 0s 21ms/step - loss: 0.1836 - categorical_accuracy: 0.7837 - val_loss: 0.1718 - val_categorical_accuracy: 0.8101\n",
      "Epoch 2/100\n",
      "23/23 [==============================] - 0s 19ms/step - loss: 0.1810 - categorical_accuracy: 0.7837 - val_loss: 0.1693 - val_categorical_accuracy: 0.8101\n",
      "Epoch 3/100\n",
      "23/23 [==============================] - 0s 21ms/step - loss: 0.1792 - categorical_accuracy: 0.7851 - val_loss: 0.1674 - val_categorical_accuracy: 0.8101\n",
      "Epoch 4/100\n",
      "23/23 [==============================] - 0s 21ms/step - loss: 0.1778 - categorical_accuracy: 0.7851 - val_loss: 0.1658 - val_categorical_accuracy: 0.8101\n",
      "Epoch 5/100\n",
      "23/23 [==============================] - 0s 19ms/step - loss: 0.1766 - categorical_accuracy: 0.7851 - val_loss: 0.1648 - val_categorical_accuracy: 0.8101\n",
      "Epoch 6/100\n",
      "23/23 [==============================] - 0s 20ms/step - loss: 0.1758 - categorical_accuracy: 0.7851 - val_loss: 0.1636 - val_categorical_accuracy: 0.8101\n",
      "Epoch 7/100\n",
      "23/23 [==============================] - 0s 20ms/step - loss: 0.1749 - categorical_accuracy: 0.7851 - val_loss: 0.1626 - val_categorical_accuracy: 0.8101\n",
      "Epoch 8/100\n",
      "23/23 [==============================] - 1s 23ms/step - loss: 0.1741 - categorical_accuracy: 0.7851 - val_loss: 0.1616 - val_categorical_accuracy: 0.8101\n",
      "Epoch 9/100\n",
      "23/23 [==============================] - 0s 20ms/step - loss: 0.1733 - categorical_accuracy: 0.7851 - val_loss: 0.1608 - val_categorical_accuracy: 0.8101\n",
      "Epoch 10/100\n",
      "23/23 [==============================] - 1s 23ms/step - loss: 0.1727 - categorical_accuracy: 0.7851 - val_loss: 0.1602 - val_categorical_accuracy: 0.8101\n",
      "Epoch 11/100\n",
      "23/23 [==============================] - 1s 26ms/step - loss: 0.1722 - categorical_accuracy: 0.7851 - val_loss: 0.1595 - val_categorical_accuracy: 0.8101\n",
      "Epoch 12/100\n",
      "23/23 [==============================] - 1s 23ms/step - loss: 0.1717 - categorical_accuracy: 0.7851 - val_loss: 0.1588 - val_categorical_accuracy: 0.8101\n",
      "Epoch 13/100\n",
      "23/23 [==============================] - 1s 23ms/step - loss: 0.1711 - categorical_accuracy: 0.7851 - val_loss: 0.1583 - val_categorical_accuracy: 0.8101\n",
      "Epoch 14/100\n",
      "23/23 [==============================] - 0s 21ms/step - loss: 0.1706 - categorical_accuracy: 0.7851 - val_loss: 0.1577 - val_categorical_accuracy: 0.8101\n",
      "Epoch 15/100\n",
      "23/23 [==============================] - 0s 20ms/step - loss: 0.1701 - categorical_accuracy: 0.7851 - val_loss: 0.1572 - val_categorical_accuracy: 0.8101\n",
      "Epoch 16/100\n",
      "23/23 [==============================] - 0s 21ms/step - loss: 0.1697 - categorical_accuracy: 0.7851 - val_loss: 0.1567 - val_categorical_accuracy: 0.8101\n",
      "Epoch 17/100\n",
      "23/23 [==============================] - 1s 25ms/step - loss: 0.1692 - categorical_accuracy: 0.7851 - val_loss: 0.1562 - val_categorical_accuracy: 0.8101\n",
      "Epoch 18/100\n",
      "23/23 [==============================] - 0s 20ms/step - loss: 0.1688 - categorical_accuracy: 0.7851 - val_loss: 0.1557 - val_categorical_accuracy: 0.8101\n",
      "Epoch 19/100\n",
      "23/23 [==============================] - 1s 22ms/step - loss: 0.1684 - categorical_accuracy: 0.7851 - val_loss: 0.1553 - val_categorical_accuracy: 0.8101\n",
      "Epoch 20/100\n",
      "23/23 [==============================] - 1s 22ms/step - loss: 0.1680 - categorical_accuracy: 0.7851 - val_loss: 0.1549 - val_categorical_accuracy: 0.8101\n",
      "Epoch 21/100\n",
      "23/23 [==============================] - 0s 20ms/step - loss: 0.1676 - categorical_accuracy: 0.7851 - val_loss: 0.1544 - val_categorical_accuracy: 0.8101\n",
      "Epoch 22/100\n",
      "23/23 [==============================] - 1s 22ms/step - loss: 0.1672 - categorical_accuracy: 0.7851 - val_loss: 0.1540 - val_categorical_accuracy: 0.8101\n",
      "Epoch 23/100\n",
      "23/23 [==============================] - 1s 23ms/step - loss: 0.1668 - categorical_accuracy: 0.7851 - val_loss: 0.1536 - val_categorical_accuracy: 0.8101\n",
      "Epoch 24/100\n",
      "23/23 [==============================] - 1s 23ms/step - loss: 0.1665 - categorical_accuracy: 0.7851 - val_loss: 0.1532 - val_categorical_accuracy: 0.8101\n",
      "Epoch 25/100\n",
      "23/23 [==============================] - 1s 22ms/step - loss: 0.1661 - categorical_accuracy: 0.7851 - val_loss: 0.1528 - val_categorical_accuracy: 0.8101\n",
      "Epoch 26/100\n",
      "23/23 [==============================] - 1s 23ms/step - loss: 0.1658 - categorical_accuracy: 0.7851 - val_loss: 0.1524 - val_categorical_accuracy: 0.8101\n",
      "Epoch 27/100\n",
      "23/23 [==============================] - 1s 22ms/step - loss: 0.1654 - categorical_accuracy: 0.7851 - val_loss: 0.1520 - val_categorical_accuracy: 0.8101\n",
      "Epoch 28/100\n",
      "23/23 [==============================] - 0s 19ms/step - loss: 0.1651 - categorical_accuracy: 0.7851 - val_loss: 0.1517 - val_categorical_accuracy: 0.8101\n",
      "Epoch 29/100\n",
      "23/23 [==============================] - 0s 20ms/step - loss: 0.1649 - categorical_accuracy: 0.7851 - val_loss: 0.1514 - val_categorical_accuracy: 0.8101\n",
      "Epoch 30/100\n",
      "23/23 [==============================] - 0s 19ms/step - loss: 0.1646 - categorical_accuracy: 0.7851 - val_loss: 0.1511 - val_categorical_accuracy: 0.8101\n",
      "Epoch 31/100\n",
      "23/23 [==============================] - 0s 20ms/step - loss: 0.1643 - categorical_accuracy: 0.7851 - val_loss: 0.1507 - val_categorical_accuracy: 0.8101\n",
      "Epoch 32/100\n",
      "23/23 [==============================] - 0s 21ms/step - loss: 0.1640 - categorical_accuracy: 0.7851 - val_loss: 0.1504 - val_categorical_accuracy: 0.8101\n",
      "Epoch 33/100\n",
      "23/23 [==============================] - 1s 24ms/step - loss: 0.1638 - categorical_accuracy: 0.7851 - val_loss: 0.1501 - val_categorical_accuracy: 0.8101\n",
      "Epoch 34/100\n",
      "23/23 [==============================] - 0s 20ms/step - loss: 0.1635 - categorical_accuracy: 0.7851 - val_loss: 0.1498 - val_categorical_accuracy: 0.8101\n",
      "Epoch 35/100\n",
      "23/23 [==============================] - 1s 23ms/step - loss: 0.1632 - categorical_accuracy: 0.7851 - val_loss: 0.1495 - val_categorical_accuracy: 0.8101\n",
      "Epoch 36/100\n",
      "23/23 [==============================] - 1s 24ms/step - loss: 0.1630 - categorical_accuracy: 0.7851 - val_loss: 0.1492 - val_categorical_accuracy: 0.8101\n",
      "Epoch 37/100\n",
      "23/23 [==============================] - 0s 21ms/step - loss: 0.1627 - categorical_accuracy: 0.7851 - val_loss: 0.1489 - val_categorical_accuracy: 0.8101\n",
      "Epoch 38/100\n",
      "23/23 [==============================] - 1s 26ms/step - loss: 0.1625 - categorical_accuracy: 0.7851 - val_loss: 0.1486 - val_categorical_accuracy: 0.8101\n",
      "Epoch 39/100\n",
      "23/23 [==============================] - 1s 26ms/step - loss: 0.1622 - categorical_accuracy: 0.7851 - val_loss: 0.1483 - val_categorical_accuracy: 0.8101\n",
      "Epoch 40/100\n",
      "23/23 [==============================] - 1s 24ms/step - loss: 0.1620 - categorical_accuracy: 0.7851 - val_loss: 0.1481 - val_categorical_accuracy: 0.8101\n",
      "Epoch 41/100\n",
      "23/23 [==============================] - 1s 22ms/step - loss: 0.1618 - categorical_accuracy: 0.7851 - val_loss: 0.1480 - val_categorical_accuracy: 0.8101\n",
      "Epoch 42/100\n",
      "23/23 [==============================] - 1s 24ms/step - loss: 0.1616 - categorical_accuracy: 0.7851 - val_loss: 0.1477 - val_categorical_accuracy: 0.8101\n",
      "Epoch 43/100\n",
      "23/23 [==============================] - 1s 24ms/step - loss: 0.1615 - categorical_accuracy: 0.7851 - val_loss: 0.1475 - val_categorical_accuracy: 0.8101\n",
      "Epoch 44/100\n",
      "23/23 [==============================] - 1s 23ms/step - loss: 0.1613 - categorical_accuracy: 0.7851 - val_loss: 0.1473 - val_categorical_accuracy: 0.8101\n",
      "Epoch 45/100\n",
      "23/23 [==============================] - 1s 23ms/step - loss: 0.1612 - categorical_accuracy: 0.7851 - val_loss: 0.1471 - val_categorical_accuracy: 0.8101\n",
      "Epoch 46/100\n",
      "23/23 [==============================] - 0s 20ms/step - loss: 0.1610 - categorical_accuracy: 0.7851 - val_loss: 0.1470 - val_categorical_accuracy: 0.8101\n",
      "Epoch 47/100\n",
      "23/23 [==============================] - 1s 24ms/step - loss: 0.1608 - categorical_accuracy: 0.7851 - val_loss: 0.1468 - val_categorical_accuracy: 0.8101\n",
      "Epoch 48/100\n",
      "23/23 [==============================] - 1s 24ms/step - loss: 0.1606 - categorical_accuracy: 0.7851 - val_loss: 0.1467 - val_categorical_accuracy: 0.8101\n",
      "Epoch 49/100\n",
      "23/23 [==============================] - 0s 20ms/step - loss: 0.1605 - categorical_accuracy: 0.7851 - val_loss: 0.1465 - val_categorical_accuracy: 0.8101\n",
      "Epoch 50/100\n"
     ]
    },
    {
     "name": "stdout",
     "output_type": "stream",
     "text": [
      "23/23 [==============================] - 0s 19ms/step - loss: 0.1604 - categorical_accuracy: 0.7851 - val_loss: 0.1463 - val_categorical_accuracy: 0.8101\n",
      "Epoch 51/100\n",
      "23/23 [==============================] - 0s 20ms/step - loss: 0.1602 - categorical_accuracy: 0.7851 - val_loss: 0.1461 - val_categorical_accuracy: 0.8101\n",
      "Epoch 52/100\n",
      "23/23 [==============================] - 0s 20ms/step - loss: 0.1601 - categorical_accuracy: 0.7851 - val_loss: 0.1459 - val_categorical_accuracy: 0.8101\n",
      "Epoch 53/100\n",
      "23/23 [==============================] - 0s 20ms/step - loss: 0.1599 - categorical_accuracy: 0.7851 - val_loss: 0.1458 - val_categorical_accuracy: 0.8101\n",
      "Epoch 54/100\n",
      "23/23 [==============================] - 0s 18ms/step - loss: 0.1598 - categorical_accuracy: 0.7851 - val_loss: 0.1456 - val_categorical_accuracy: 0.8101\n",
      "Epoch 55/100\n",
      "23/23 [==============================] - 0s 19ms/step - loss: 0.1597 - categorical_accuracy: 0.7851 - val_loss: 0.1454 - val_categorical_accuracy: 0.8101\n",
      "Epoch 56/100\n",
      "23/23 [==============================] - 0s 18ms/step - loss: 0.1595 - categorical_accuracy: 0.7851 - val_loss: 0.1453 - val_categorical_accuracy: 0.8101\n",
      "Epoch 57/100\n",
      "23/23 [==============================] - 0s 19ms/step - loss: 0.1594 - categorical_accuracy: 0.7851 - val_loss: 0.1452 - val_categorical_accuracy: 0.8101\n",
      "Epoch 58/100\n",
      "23/23 [==============================] - 1s 24ms/step - loss: 0.1593 - categorical_accuracy: 0.7851 - val_loss: 0.1450 - val_categorical_accuracy: 0.8101\n",
      "Epoch 59/100\n",
      "23/23 [==============================] - 1s 27ms/step - loss: 0.1591 - categorical_accuracy: 0.7851 - val_loss: 0.1448 - val_categorical_accuracy: 0.8101\n",
      "Epoch 60/100\n",
      "23/23 [==============================] - 0s 21ms/step - loss: 0.1590 - categorical_accuracy: 0.7851 - val_loss: 0.1446 - val_categorical_accuracy: 0.8101\n",
      "Epoch 61/100\n",
      "23/23 [==============================] - 0s 20ms/step - loss: 0.1589 - categorical_accuracy: 0.7851 - val_loss: 0.1444 - val_categorical_accuracy: 0.8101\n",
      "Epoch 62/100\n",
      "23/23 [==============================] - 1s 28ms/step - loss: 0.1587 - categorical_accuracy: 0.7851 - val_loss: 0.1443 - val_categorical_accuracy: 0.8101\n",
      "Epoch 63/100\n",
      "23/23 [==============================] - 1s 24ms/step - loss: 0.1586 - categorical_accuracy: 0.7851 - val_loss: 0.1441 - val_categorical_accuracy: 0.8101\n",
      "Epoch 64/100\n",
      "23/23 [==============================] - 0s 20ms/step - loss: 0.1585 - categorical_accuracy: 0.7851 - val_loss: 0.1440 - val_categorical_accuracy: 0.8101\n",
      "Epoch 65/100\n",
      "23/23 [==============================] - 1s 25ms/step - loss: 0.1583 - categorical_accuracy: 0.7851 - val_loss: 0.1439 - val_categorical_accuracy: 0.8101\n",
      "Epoch 66/100\n",
      "23/23 [==============================] - 0s 20ms/step - loss: 0.1582 - categorical_accuracy: 0.7851 - val_loss: 0.1437 - val_categorical_accuracy: 0.8101\n",
      "Epoch 67/100\n",
      "23/23 [==============================] - 1s 23ms/step - loss: 0.1581 - categorical_accuracy: 0.7851 - val_loss: 0.1435 - val_categorical_accuracy: 0.8101\n",
      "Epoch 68/100\n",
      "23/23 [==============================] - 1s 24ms/step - loss: 0.1580 - categorical_accuracy: 0.7851 - val_loss: 0.1434 - val_categorical_accuracy: 0.8101\n",
      "Epoch 69/100\n",
      "23/23 [==============================] - 1s 22ms/step - loss: 0.1579 - categorical_accuracy: 0.7851 - val_loss: 0.1433 - val_categorical_accuracy: 0.8101\n",
      "Epoch 70/100\n",
      "23/23 [==============================] - 0s 20ms/step - loss: 0.1578 - categorical_accuracy: 0.7851 - val_loss: 0.1432 - val_categorical_accuracy: 0.8101\n",
      "Epoch 71/100\n",
      "23/23 [==============================] - 0s 20ms/step - loss: 0.1577 - categorical_accuracy: 0.7851 - val_loss: 0.1430 - val_categorical_accuracy: 0.8101\n",
      "Epoch 72/100\n",
      "23/23 [==============================] - 1s 23ms/step - loss: 0.1576 - categorical_accuracy: 0.7851 - val_loss: 0.1429 - val_categorical_accuracy: 0.8101\n",
      "Epoch 73/100\n",
      "23/23 [==============================] - 0s 22ms/step - loss: 0.1575 - categorical_accuracy: 0.7851 - val_loss: 0.1428 - val_categorical_accuracy: 0.8101\n",
      "Epoch 74/100\n",
      "23/23 [==============================] - 0s 18ms/step - loss: 0.1574 - categorical_accuracy: 0.7851 - val_loss: 0.1428 - val_categorical_accuracy: 0.8101\n",
      "Epoch 75/100\n",
      "23/23 [==============================] - 0s 19ms/step - loss: 0.1573 - categorical_accuracy: 0.7851 - val_loss: 0.1426 - val_categorical_accuracy: 0.8101\n",
      "Epoch 76/100\n",
      "23/23 [==============================] - 0s 19ms/step - loss: 0.1572 - categorical_accuracy: 0.7851 - val_loss: 0.1425 - val_categorical_accuracy: 0.8101\n",
      "Epoch 77/100\n",
      "23/23 [==============================] - 0s 19ms/step - loss: 0.1571 - categorical_accuracy: 0.7851 - val_loss: 0.1424 - val_categorical_accuracy: 0.8101\n",
      "Epoch 78/100\n",
      "23/23 [==============================] - 1s 22ms/step - loss: 0.1570 - categorical_accuracy: 0.7837 - val_loss: 0.1423 - val_categorical_accuracy: 0.8101\n",
      "Epoch 79/100\n",
      "23/23 [==============================] - 1s 23ms/step - loss: 0.1569 - categorical_accuracy: 0.7837 - val_loss: 0.1422 - val_categorical_accuracy: 0.8101\n",
      "Epoch 80/100\n",
      "23/23 [==============================] - 1s 22ms/step - loss: 0.1568 - categorical_accuracy: 0.7851 - val_loss: 0.1421 - val_categorical_accuracy: 0.8101\n",
      "Epoch 81/100\n",
      "23/23 [==============================] - 0s 19ms/step - loss: 0.1568 - categorical_accuracy: 0.7851 - val_loss: 0.1420 - val_categorical_accuracy: 0.8101\n",
      "Epoch 82/100\n",
      "23/23 [==============================] - 0s 18ms/step - loss: 0.1567 - categorical_accuracy: 0.7851 - val_loss: 0.1419 - val_categorical_accuracy: 0.8101\n",
      "Epoch 83/100\n",
      "23/23 [==============================] - 0s 21ms/step - loss: 0.1566 - categorical_accuracy: 0.7851 - val_loss: 0.1417 - val_categorical_accuracy: 0.8101\n",
      "Epoch 84/100\n",
      "23/23 [==============================] - 0s 21ms/step - loss: 0.1565 - categorical_accuracy: 0.7851 - val_loss: 0.1415 - val_categorical_accuracy: 0.8156\n",
      "Epoch 85/100\n",
      "23/23 [==============================] - 0s 21ms/step - loss: 0.1564 - categorical_accuracy: 0.7865 - val_loss: 0.1414 - val_categorical_accuracy: 0.8156\n",
      "Epoch 86/100\n",
      "23/23 [==============================] - 1s 23ms/step - loss: 0.1563 - categorical_accuracy: 0.7907 - val_loss: 0.1413 - val_categorical_accuracy: 0.8156\n",
      "Epoch 87/100\n",
      "23/23 [==============================] - 1s 25ms/step - loss: 0.1562 - categorical_accuracy: 0.7879 - val_loss: 0.1411 - val_categorical_accuracy: 0.8156\n",
      "Epoch 88/100\n",
      "23/23 [==============================] - 0s 20ms/step - loss: 0.1562 - categorical_accuracy: 0.7935 - val_loss: 0.1411 - val_categorical_accuracy: 0.8156\n",
      "Epoch 89/100\n",
      "23/23 [==============================] - 0s 20ms/step - loss: 0.1561 - categorical_accuracy: 0.7879 - val_loss: 0.1409 - val_categorical_accuracy: 0.8156\n",
      "Epoch 90/100\n",
      "23/23 [==============================] - 0s 18ms/step - loss: 0.1560 - categorical_accuracy: 0.7935 - val_loss: 0.1408 - val_categorical_accuracy: 0.8156\n",
      "Epoch 91/100\n",
      "23/23 [==============================] - 0s 20ms/step - loss: 0.1560 - categorical_accuracy: 0.7935 - val_loss: 0.1407 - val_categorical_accuracy: 0.8156\n",
      "Epoch 92/100\n",
      "23/23 [==============================] - 0s 19ms/step - loss: 0.1559 - categorical_accuracy: 0.7935 - val_loss: 0.1406 - val_categorical_accuracy: 0.8156\n",
      "Epoch 93/100\n",
      "23/23 [==============================] - 1s 23ms/step - loss: 0.1558 - categorical_accuracy: 0.7935 - val_loss: 0.1405 - val_categorical_accuracy: 0.8156\n",
      "Epoch 94/100\n",
      "23/23 [==============================] - 1s 23ms/step - loss: 0.1557 - categorical_accuracy: 0.7935 - val_loss: 0.1405 - val_categorical_accuracy: 0.8156\n",
      "Epoch 95/100\n",
      "23/23 [==============================] - 0s 19ms/step - loss: 0.1556 - categorical_accuracy: 0.7935 - val_loss: 0.1404 - val_categorical_accuracy: 0.8156\n",
      "Epoch 96/100\n",
      "23/23 [==============================] - 0s 19ms/step - loss: 0.1556 - categorical_accuracy: 0.7935 - val_loss: 0.1403 - val_categorical_accuracy: 0.8156\n",
      "Epoch 97/100\n",
      "23/23 [==============================] - 0s 19ms/step - loss: 0.1555 - categorical_accuracy: 0.7935 - val_loss: 0.1403 - val_categorical_accuracy: 0.8156\n",
      "Epoch 98/100\n",
      "23/23 [==============================] - 1s 23ms/step - loss: 0.1554 - categorical_accuracy: 0.7935 - val_loss: 0.1402 - val_categorical_accuracy: 0.8156\n",
      "Epoch 99/100\n"
     ]
    },
    {
     "name": "stdout",
     "output_type": "stream",
     "text": [
      "23/23 [==============================] - 0s 19ms/step - loss: 0.1554 - categorical_accuracy: 0.7935 - val_loss: 0.1401 - val_categorical_accuracy: 0.8156\n",
      "Epoch 100/100\n",
      "23/23 [==============================] - 0s 19ms/step - loss: 0.1553 - categorical_accuracy: 0.7935 - val_loss: 0.1400 - val_categorical_accuracy: 0.8156\n"
     ]
    }
   ],
   "source": [
    "learning = model.fit(X_train_norm[..., np.newaxis], y_train_categorical, epochs=100, validation_split=0.2)"
   ]
  },
  {
   "cell_type": "code",
   "execution_count": 147,
   "metadata": {
    "ExecuteTime": {
     "end_time": "2023-05-29T18:37:43.995581Z",
     "start_time": "2023-05-29T18:37:43.820049Z"
    },
    "scrolled": true
   },
   "outputs": [
    {
     "data": {
      "image/png": "[encoded data removed]",
      "text/plain": [
       "<Figure size 640x480 with 1 Axes>"
      ]
     },
     "metadata": {},
     "output_type": "display_data"
    }
   ],
   "source": [
    "import matplotlib.pyplot as plt\n",
    "\n",
    "plt.plot(learning.history['loss'], label='loss')\n",
    "plt.plot(learning.history['val_loss'], label='val_loss')\n",
    "plt.legend()\n",
    "plt.show()"
   ]
  },
  {
   "cell_type": "code",
   "execution_count": 148,
   "metadata": {
    "ExecuteTime": {
     "end_time": "2023-05-29T18:37:44.101651Z",
     "start_time": "2023-05-29T18:37:43.996572Z"
    },
    "collapsed": true
   },
   "outputs": [
    {
     "name": "stdout",
     "output_type": "stream",
     "text": [
      "14/14 [==============================] - 0s 4ms/step\n"
     ]
    },
    {
     "name": "stderr",
     "output_type": "stream",
     "text": [
      "/home/lezchook/miniconda3/envs/tf/lib/python3.9/site-packages/tensorflow/python/data/ops/structured_function.py:254: UserWarning: Even though the `tf.config.experimental_run_functions_eagerly` option is set, this option does not apply to tf.data functions. To force eager execution of tf.data functions, please use `tf.data.experimental.enable_debug_mode()`.\n",
      "  warnings.warn(\n"
     ]
    }
   ],
   "source": [
    "X_test_norm = mms.transform(X_test_array)\n",
    "prediction = model.predict(X_test_norm[..., np.newaxis])"
   ]
  },
  {
   "cell_type": "code",
   "execution_count": 149,
   "metadata": {
    "ExecuteTime": {
     "end_time": "2023-05-29T18:37:44.113288Z",
     "start_time": "2023-05-29T18:37:44.110900Z"
    }
   },
   "outputs": [],
   "source": [
    "labels = np.argmax(prediction, axis=1)"
   ]
  },
  {
   "cell_type": "code",
   "execution_count": 150,
   "metadata": {
    "ExecuteTime": {
     "end_time": "2023-05-29T18:37:44.150576Z",
     "start_time": "2023-05-29T18:37:44.125105Z"
    }
   },
   "outputs": [],
   "source": [
    "output = pd.DataFrame({'PassengerId': test_data.PassengerId, 'Survived': labels})"
   ]
  },
  {
   "cell_type": "code",
   "execution_count": 151,
   "metadata": {
    "ExecuteTime": {
     "end_time": "2023-05-29T18:37:44.151568Z",
     "start_time": "2023-05-29T18:37:44.129608Z"
    }
   },
   "outputs": [
    {
     "data": {
      "text/html": [
       "<div>\n",
       "<style scoped>\n",
       "    .dataframe tbody tr th:only-of-type {\n",
       "        vertical-align: middle;\n",
       "    }\n",
       "\n",
       "    .dataframe tbody tr th {\n",
       "        vertical-align: top;\n",
       "    }\n",
       "\n",
       "    .dataframe thead th {\n",
       "        text-align: right;\n",
       "    }\n",
       "</style>\n",
       "<table border=\"1\" class=\"dataframe\">\n",
       "  <thead>\n",
       "    <tr style=\"text-align: right;\">\n",
       "      <th></th>\n",
       "      <th>PassengerId</th>\n",
       "      <th>Survived</th>\n",
       "    </tr>\n",
       "  </thead>\n",
       "  <tbody>\n",
       "    <tr>\n",
       "      <th>0</th>\n",
       "      <td>892</td>\n",
       "      <td>0</td>\n",
       "    </tr>\n",
       "    <tr>\n",
       "      <th>1</th>\n",
       "      <td>893</td>\n",
       "      <td>1</td>\n",
       "    </tr>\n",
       "    <tr>\n",
       "      <th>2</th>\n",
       "      <td>894</td>\n",
       "      <td>0</td>\n",
       "    </tr>\n",
       "    <tr>\n",
       "      <th>3</th>\n",
       "      <td>895</td>\n",
       "      <td>0</td>\n",
       "    </tr>\n",
       "    <tr>\n",
       "      <th>4</th>\n",
       "      <td>896</td>\n",
       "      <td>1</td>\n",
       "    </tr>\n",
       "  </tbody>\n",
       "</table>\n",
       "</div>"
      ],
      "text/plain": [
       "   PassengerId  Survived\n",
       "0          892         0\n",
       "1          893         1\n",
       "2          894         0\n",
       "3          895         0\n",
       "4          896         1"
      ]
     },
     "execution_count": 151,
     "metadata": {},
     "output_type": "execute_result"
    }
   ],
   "source": [
    "output.head()"
   ]
  },
  {
   "cell_type": "code",
   "execution_count": 152,
   "metadata": {
    "ExecuteTime": {
     "end_time": "2023-05-29T18:37:44.151568Z",
     "start_time": "2023-05-29T18:37:44.142216Z"
    }
   },
   "outputs": [],
   "source": [
    "output.to_csv('submission.csv', index=False)"
   ]
  }
 ],
 "metadata": {
  "kernelspec": {
   "display_name": "Python 3 (ipykernel)",
   "language": "python",
   "name": "python3"
  },
  "language_info": {
   "codemirror_mode": {
    "name": "ipython",
    "version": 3
   },
   "file_extension": ".py",
   "mimetype": "text/x-python",
   "name": "python",
   "nbconvert_exporter": "python",
   "pygments_lexer": "ipython3",
   "version": "3.9.16"
  }
 },
 "nbformat": 4,
 "nbformat_minor": 1
}
