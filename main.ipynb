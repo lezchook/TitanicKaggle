{
 "cells": [
  {
   "cell_type": "code",
   "execution_count": 94,
   "metadata": {
    "collapsed": true,
    "ExecuteTime": {
     "start_time": "2023-05-29T18:23:20.697148Z",
     "end_time": "2023-05-29T18:23:20.715005Z"
    }
   },
   "outputs": [],
   "source": [
    "import numpy as np\n",
    "import pandas as pd"
   ]
  },
  {
   "cell_type": "code",
   "execution_count": 95,
   "outputs": [
    {
     "data": {
      "text/plain": "     PassengerId  Pclass                                          Name   \n0            892       3                              Kelly, Mr. James  \\\n1            893       3              Wilkes, Mrs. James (Ellen Needs)   \n2            894       2                     Myles, Mr. Thomas Francis   \n3            895       3                              Wirz, Mr. Albert   \n4            896       3  Hirvonen, Mrs. Alexander (Helga E Lindqvist)   \n..           ...     ...                                           ...   \n413         1305       3                            Spector, Mr. Woolf   \n414         1306       1                  Oliva y Ocana, Dona. Fermina   \n415         1307       3                  Saether, Mr. Simon Sivertsen   \n416         1308       3                           Ware, Mr. Frederick   \n417         1309       3                      Peter, Master. Michael J   \n\n        Sex   Age  SibSp  Parch              Ticket      Fare Cabin Embarked  \n0      male  34.5      0      0              330911    7.8292   NaN        Q  \n1    female  47.0      1      0              363272    7.0000   NaN        S  \n2      male  62.0      0      0              240276    9.6875   NaN        Q  \n3      male  27.0      0      0              315154    8.6625   NaN        S  \n4    female  22.0      1      1             3101298   12.2875   NaN        S  \n..      ...   ...    ...    ...                 ...       ...   ...      ...  \n413    male   NaN      0      0           A.5. 3236    8.0500   NaN        S  \n414  female  39.0      0      0            PC 17758  108.9000  C105        C  \n415    male  38.5      0      0  SOTON/O.Q. 3101262    7.2500   NaN        S  \n416    male   NaN      0      0              359309    8.0500   NaN        S  \n417    male   NaN      1      1                2668   22.3583   NaN        C  \n\n[418 rows x 11 columns]",
      "text/html": "<div>\n<style scoped>\n    .dataframe tbody tr th:only-of-type {\n        vertical-align: middle;\n    }\n\n    .dataframe tbody tr th {\n        vertical-align: top;\n    }\n\n    .dataframe thead th {\n        text-align: right;\n    }\n</style>\n<table border=\"1\" class=\"dataframe\">\n  <thead>\n    <tr style=\"text-align: right;\">\n      <th></th>\n      <th>PassengerId</th>\n      <th>Pclass</th>\n      <th>Name</th>\n      <th>Sex</th>\n      <th>Age</th>\n      <th>SibSp</th>\n      <th>Parch</th>\n      <th>Ticket</th>\n      <th>Fare</th>\n      <th>Cabin</th>\n      <th>Embarked</th>\n    </tr>\n  </thead>\n  <tbody>\n    <tr>\n      <th>0</th>\n      <td>892</td>\n      <td>3</td>\n      <td>Kelly, Mr. James</td>\n      <td>male</td>\n      <td>34.5</td>\n      <td>0</td>\n      <td>0</td>\n      <td>330911</td>\n      <td>7.8292</td>\n      <td>NaN</td>\n      <td>Q</td>\n    </tr>\n    <tr>\n      <th>1</th>\n      <td>893</td>\n      <td>3</td>\n      <td>Wilkes, Mrs. James (Ellen Needs)</td>\n      <td>female</td>\n      <td>47.0</td>\n      <td>1</td>\n      <td>0</td>\n      <td>363272</td>\n      <td>7.0000</td>\n      <td>NaN</td>\n      <td>S</td>\n    </tr>\n    <tr>\n      <th>2</th>\n      <td>894</td>\n      <td>2</td>\n      <td>Myles, Mr. Thomas Francis</td>\n      <td>male</td>\n      <td>62.0</td>\n      <td>0</td>\n      <td>0</td>\n      <td>240276</td>\n      <td>9.6875</td>\n      <td>NaN</td>\n      <td>Q</td>\n    </tr>\n    <tr>\n      <th>3</th>\n      <td>895</td>\n      <td>3</td>\n      <td>Wirz, Mr. Albert</td>\n      <td>male</td>\n      <td>27.0</td>\n      <td>0</td>\n      <td>0</td>\n      <td>315154</td>\n      <td>8.6625</td>\n      <td>NaN</td>\n      <td>S</td>\n    </tr>\n    <tr>\n      <th>4</th>\n      <td>896</td>\n      <td>3</td>\n      <td>Hirvonen, Mrs. Alexander (Helga E Lindqvist)</td>\n      <td>female</td>\n      <td>22.0</td>\n      <td>1</td>\n      <td>1</td>\n      <td>3101298</td>\n      <td>12.2875</td>\n      <td>NaN</td>\n      <td>S</td>\n    </tr>\n    <tr>\n      <th>...</th>\n      <td>...</td>\n      <td>...</td>\n      <td>...</td>\n      <td>...</td>\n      <td>...</td>\n      <td>...</td>\n      <td>...</td>\n      <td>...</td>\n      <td>...</td>\n      <td>...</td>\n      <td>...</td>\n    </tr>\n    <tr>\n      <th>413</th>\n      <td>1305</td>\n      <td>3</td>\n      <td>Spector, Mr. Woolf</td>\n      <td>male</td>\n      <td>NaN</td>\n      <td>0</td>\n      <td>0</td>\n      <td>A.5. 3236</td>\n      <td>8.0500</td>\n      <td>NaN</td>\n      <td>S</td>\n    </tr>\n    <tr>\n      <th>414</th>\n      <td>1306</td>\n      <td>1</td>\n      <td>Oliva y Ocana, Dona. Fermina</td>\n      <td>female</td>\n      <td>39.0</td>\n      <td>0</td>\n      <td>0</td>\n      <td>PC 17758</td>\n      <td>108.9000</td>\n      <td>C105</td>\n      <td>C</td>\n    </tr>\n    <tr>\n      <th>415</th>\n      <td>1307</td>\n      <td>3</td>\n      <td>Saether, Mr. Simon Sivertsen</td>\n      <td>male</td>\n      <td>38.5</td>\n      <td>0</td>\n      <td>0</td>\n      <td>SOTON/O.Q. 3101262</td>\n      <td>7.2500</td>\n      <td>NaN</td>\n      <td>S</td>\n    </tr>\n    <tr>\n      <th>416</th>\n      <td>1308</td>\n      <td>3</td>\n      <td>Ware, Mr. Frederick</td>\n      <td>male</td>\n      <td>NaN</td>\n      <td>0</td>\n      <td>0</td>\n      <td>359309</td>\n      <td>8.0500</td>\n      <td>NaN</td>\n      <td>S</td>\n    </tr>\n    <tr>\n      <th>417</th>\n      <td>1309</td>\n      <td>3</td>\n      <td>Peter, Master. Michael J</td>\n      <td>male</td>\n      <td>NaN</td>\n      <td>1</td>\n      <td>1</td>\n      <td>2668</td>\n      <td>22.3583</td>\n      <td>NaN</td>\n      <td>C</td>\n    </tr>\n  </tbody>\n</table>\n<p>418 rows × 11 columns</p>\n</div>"
     },
     "execution_count": 95,
     "metadata": {},
     "output_type": "execute_result"
    }
   ],
   "source": [
    "train_data = pd.read_csv('train.csv')\n",
    "test_data = pd.read_csv('test.csv')\n",
    "test_data"
   ],
   "metadata": {
    "collapsed": false,
    "ExecuteTime": {
     "start_time": "2023-05-29T18:23:20.700124Z",
     "end_time": "2023-05-29T18:23:20.772467Z"
    }
   }
  },
  {
   "cell_type": "code",
   "execution_count": 96,
   "outputs": [
    {
     "data": {
      "text/plain": "     PassengerId  Pclass  SibSp  Parch  Sex_female  Sex_male\n0            892       3      0      0         0.0       1.0\n1            893       3      1      0         1.0       0.0\n2            894       2      0      0         0.0       1.0\n3            895       3      0      0         0.0       1.0\n4            896       3      1      1         1.0       0.0\n..           ...     ...    ...    ...         ...       ...\n413         1305       3      0      0         0.0       1.0\n414         1306       1      0      0         1.0       0.0\n415         1307       3      0      0         0.0       1.0\n416         1308       3      0      0         0.0       1.0\n417         1309       3      1      1         0.0       1.0\n\n[418 rows x 6 columns]",
      "text/html": "<div>\n<style scoped>\n    .dataframe tbody tr th:only-of-type {\n        vertical-align: middle;\n    }\n\n    .dataframe tbody tr th {\n        vertical-align: top;\n    }\n\n    .dataframe thead th {\n        text-align: right;\n    }\n</style>\n<table border=\"1\" class=\"dataframe\">\n  <thead>\n    <tr style=\"text-align: right;\">\n      <th></th>\n      <th>PassengerId</th>\n      <th>Pclass</th>\n      <th>SibSp</th>\n      <th>Parch</th>\n      <th>Sex_female</th>\n      <th>Sex_male</th>\n    </tr>\n  </thead>\n  <tbody>\n    <tr>\n      <th>0</th>\n      <td>892</td>\n      <td>3</td>\n      <td>0</td>\n      <td>0</td>\n      <td>0.0</td>\n      <td>1.0</td>\n    </tr>\n    <tr>\n      <th>1</th>\n      <td>893</td>\n      <td>3</td>\n      <td>1</td>\n      <td>0</td>\n      <td>1.0</td>\n      <td>0.0</td>\n    </tr>\n    <tr>\n      <th>2</th>\n      <td>894</td>\n      <td>2</td>\n      <td>0</td>\n      <td>0</td>\n      <td>0.0</td>\n      <td>1.0</td>\n    </tr>\n    <tr>\n      <th>3</th>\n      <td>895</td>\n      <td>3</td>\n      <td>0</td>\n      <td>0</td>\n      <td>0.0</td>\n      <td>1.0</td>\n    </tr>\n    <tr>\n      <th>4</th>\n      <td>896</td>\n      <td>3</td>\n      <td>1</td>\n      <td>1</td>\n      <td>1.0</td>\n      <td>0.0</td>\n    </tr>\n    <tr>\n      <th>...</th>\n      <td>...</td>\n      <td>...</td>\n      <td>...</td>\n      <td>...</td>\n      <td>...</td>\n      <td>...</td>\n    </tr>\n    <tr>\n      <th>413</th>\n      <td>1305</td>\n      <td>3</td>\n      <td>0</td>\n      <td>0</td>\n      <td>0.0</td>\n      <td>1.0</td>\n    </tr>\n    <tr>\n      <th>414</th>\n      <td>1306</td>\n      <td>1</td>\n      <td>0</td>\n      <td>0</td>\n      <td>1.0</td>\n      <td>0.0</td>\n    </tr>\n    <tr>\n      <th>415</th>\n      <td>1307</td>\n      <td>3</td>\n      <td>0</td>\n      <td>0</td>\n      <td>0.0</td>\n      <td>1.0</td>\n    </tr>\n    <tr>\n      <th>416</th>\n      <td>1308</td>\n      <td>3</td>\n      <td>0</td>\n      <td>0</td>\n      <td>0.0</td>\n      <td>1.0</td>\n    </tr>\n    <tr>\n      <th>417</th>\n      <td>1309</td>\n      <td>3</td>\n      <td>1</td>\n      <td>1</td>\n      <td>0.0</td>\n      <td>1.0</td>\n    </tr>\n  </tbody>\n</table>\n<p>418 rows × 6 columns</p>\n</div>"
     },
     "execution_count": 96,
     "metadata": {},
     "output_type": "execute_result"
    }
   ],
   "source": [
    "y_train = train_data['Survived']\n",
    "features = [\"Pclass\", \"Sex\", \"SibSp\", \"Parch\"]\n",
    "X_train = pd.get_dummies(train_data[features], dtype='float32')\n",
    "X_test = pd.get_dummies(test_data[['PassengerId', 'Pclass', 'Sex', 'SibSp', 'Parch']], dtype='float32')\n",
    "X_test"
   ],
   "metadata": {
    "collapsed": false,
    "ExecuteTime": {
     "start_time": "2023-05-29T18:23:20.721245Z",
     "end_time": "2023-05-29T18:23:20.772963Z"
    }
   }
  },
  {
   "cell_type": "code",
   "execution_count": 97,
   "outputs": [],
   "source": [
    "X_train_array = X_train.values\n",
    "X_test_array = X_test[['Pclass', 'SibSp', 'Parch', 'Sex_female', 'Sex_male']].values"
   ],
   "metadata": {
    "collapsed": false,
    "ExecuteTime": {
     "start_time": "2023-05-29T18:23:20.738345Z",
     "end_time": "2023-05-29T18:23:20.772963Z"
    }
   }
  },
  {
   "cell_type": "code",
   "execution_count": 98,
   "outputs": [],
   "source": [
    "import tensorflow as tf\n",
    "tf.config.run_functions_eagerly(True)\n",
    "\n",
    "from keras.layers import Dense\n",
    "from keras.models import Sequential\n",
    "from keras.utils import to_categorical"
   ],
   "metadata": {
    "collapsed": false,
    "ExecuteTime": {
     "start_time": "2023-05-29T18:23:20.747578Z",
     "end_time": "2023-05-29T18:23:20.772963Z"
    }
   }
  },
  {
   "cell_type": "code",
   "execution_count": 99,
   "outputs": [],
   "source": [
    "y_train_categorical = to_categorical(y_train.values)"
   ],
   "metadata": {
    "collapsed": false,
    "ExecuteTime": {
     "start_time": "2023-05-29T18:23:20.753595Z",
     "end_time": "2023-05-29T18:23:20.772963Z"
    }
   }
  },
  {
   "cell_type": "code",
   "execution_count": 112,
   "outputs": [],
   "source": [
    "model = Sequential([\n",
    "    Dense(10, input_shape=(5,), activation=tf.keras.activations.relu),\n",
    "    Dense(10, activation=tf.keras.activations.linear),\n",
    "    Dense(2, activation=tf.keras.activations.softmax)\n",
    "])\n",
    "\n",
    "model.compile(optimizer=tf.keras.optimizers.SGD(learning_rate=0.01), loss=tf.keras.losses.mean_squared_error, metrics=tf.keras.metrics.categorical_accuracy)"
   ],
   "metadata": {
    "collapsed": false,
    "ExecuteTime": {
     "start_time": "2023-05-29T18:43:12.511361Z",
     "end_time": "2023-05-29T18:43:12.561424Z"
    }
   }
  },
  {
   "cell_type": "code",
   "execution_count": 113,
   "outputs": [],
   "source": [
    "from sklearn.preprocessing import MinMaxScaler\n",
    "\n",
    "mms = MinMaxScaler()\n",
    "X_train_norm = mms.fit_transform(X_train_array)"
   ],
   "metadata": {
    "collapsed": false,
    "ExecuteTime": {
     "start_time": "2023-05-29T18:43:12.908262Z",
     "end_time": "2023-05-29T18:43:12.923657Z"
    }
   }
  },
  {
   "cell_type": "code",
   "execution_count": 114,
   "outputs": [
    {
     "name": "stdout",
     "output_type": "stream",
     "text": [
      "Epoch 1/30\n",
      " 5/23 [=====>........................] - ETA: 0s - loss: 0.2830 - categorical_accuracy: 0.3125"
     ]
    },
    {
     "name": "stderr",
     "output_type": "stream",
     "text": [
      "C:\\Users\\serge\\PycharmProjects\\Titanic\\venv\\Lib\\site-packages\\tensorflow\\python\\data\\ops\\structured_function.py:254: UserWarning: Even though the `tf.config.experimental_run_functions_eagerly` option is set, this option does not apply to tf.data functions. To force eager execution of tf.data functions, please use `tf.data.experimental.enable_debug_mode()`.\n",
      "  warnings.warn(\n"
     ]
    },
    {
     "name": "stdout",
     "output_type": "stream",
     "text": [
      "23/23 [==============================] - 0s 21ms/step - loss: 0.2769 - categorical_accuracy: 0.3287 - val_loss: 0.2734 - val_categorical_accuracy: 0.3128\n",
      "Epoch 2/30\n",
      "23/23 [==============================] - 0s 18ms/step - loss: 0.2645 - categorical_accuracy: 0.4438 - val_loss: 0.2611 - val_categorical_accuracy: 0.5978\n",
      "Epoch 3/30\n",
      "23/23 [==============================] - 0s 18ms/step - loss: 0.2560 - categorical_accuracy: 0.5899 - val_loss: 0.2532 - val_categorical_accuracy: 0.6145\n",
      "Epoch 4/30\n",
      "23/23 [==============================] - 0s 18ms/step - loss: 0.2500 - categorical_accuracy: 0.6096 - val_loss: 0.2461 - val_categorical_accuracy: 0.6313\n",
      "Epoch 5/30\n",
      "23/23 [==============================] - 0s 17ms/step - loss: 0.2445 - categorical_accuracy: 0.6124 - val_loss: 0.2408 - val_categorical_accuracy: 0.6313\n",
      "Epoch 6/30\n",
      "23/23 [==============================] - 0s 17ms/step - loss: 0.2401 - categorical_accuracy: 0.6124 - val_loss: 0.2359 - val_categorical_accuracy: 0.6313\n",
      "Epoch 7/30\n",
      "23/23 [==============================] - 0s 17ms/step - loss: 0.2360 - categorical_accuracy: 0.6180 - val_loss: 0.2316 - val_categorical_accuracy: 0.6313\n",
      "Epoch 8/30\n",
      "23/23 [==============================] - 0s 17ms/step - loss: 0.2327 - categorical_accuracy: 0.6250 - val_loss: 0.2280 - val_categorical_accuracy: 0.6369\n",
      "Epoch 9/30\n",
      "23/23 [==============================] - 0s 17ms/step - loss: 0.2298 - categorical_accuracy: 0.6250 - val_loss: 0.2252 - val_categorical_accuracy: 0.6369\n",
      "Epoch 10/30\n",
      "23/23 [==============================] - 0s 17ms/step - loss: 0.2274 - categorical_accuracy: 0.6292 - val_loss: 0.2227 - val_categorical_accuracy: 0.6369\n",
      "Epoch 11/30\n",
      "23/23 [==============================] - 0s 20ms/step - loss: 0.2251 - categorical_accuracy: 0.6292 - val_loss: 0.2201 - val_categorical_accuracy: 0.6369\n",
      "Epoch 12/30\n",
      "23/23 [==============================] - 0s 17ms/step - loss: 0.2227 - categorical_accuracy: 0.6292 - val_loss: 0.2175 - val_categorical_accuracy: 0.6369\n",
      "Epoch 13/30\n",
      "23/23 [==============================] - 0s 17ms/step - loss: 0.2203 - categorical_accuracy: 0.6306 - val_loss: 0.2153 - val_categorical_accuracy: 0.6480\n",
      "Epoch 14/30\n",
      "23/23 [==============================] - 0s 17ms/step - loss: 0.2182 - categorical_accuracy: 0.6404 - val_loss: 0.2130 - val_categorical_accuracy: 0.6592\n",
      "Epoch 15/30\n",
      "23/23 [==============================] - 0s 17ms/step - loss: 0.2160 - categorical_accuracy: 0.6461 - val_loss: 0.2110 - val_categorical_accuracy: 0.6704\n",
      "Epoch 16/30\n",
      "23/23 [==============================] - 0s 17ms/step - loss: 0.2139 - categorical_accuracy: 0.6685 - val_loss: 0.2085 - val_categorical_accuracy: 0.6816\n",
      "Epoch 17/30\n",
      "23/23 [==============================] - 0s 17ms/step - loss: 0.2117 - categorical_accuracy: 0.6924 - val_loss: 0.2063 - val_categorical_accuracy: 0.6816\n",
      "Epoch 18/30\n",
      "23/23 [==============================] - 0s 18ms/step - loss: 0.2095 - categorical_accuracy: 0.6952 - val_loss: 0.2034 - val_categorical_accuracy: 0.6872\n",
      "Epoch 19/30\n",
      "23/23 [==============================] - 0s 17ms/step - loss: 0.2065 - categorical_accuracy: 0.6994 - val_loss: 0.2002 - val_categorical_accuracy: 0.7095\n",
      "Epoch 20/30\n",
      "23/23 [==============================] - 0s 17ms/step - loss: 0.2037 - categorical_accuracy: 0.7135 - val_loss: 0.1971 - val_categorical_accuracy: 0.7318\n",
      "Epoch 21/30\n",
      "23/23 [==============================] - 0s 17ms/step - loss: 0.2010 - categorical_accuracy: 0.7163 - val_loss: 0.1942 - val_categorical_accuracy: 0.7318\n",
      "Epoch 22/30\n",
      "23/23 [==============================] - 0s 17ms/step - loss: 0.1985 - categorical_accuracy: 0.7500 - val_loss: 0.1916 - val_categorical_accuracy: 0.7989\n",
      "Epoch 23/30\n",
      "23/23 [==============================] - 0s 17ms/step - loss: 0.1960 - categorical_accuracy: 0.7837 - val_loss: 0.1889 - val_categorical_accuracy: 0.7989\n",
      "Epoch 24/30\n",
      "23/23 [==============================] - 0s 18ms/step - loss: 0.1937 - categorical_accuracy: 0.7837 - val_loss: 0.1866 - val_categorical_accuracy: 0.7989\n",
      "Epoch 25/30\n",
      "23/23 [==============================] - 0s 18ms/step - loss: 0.1916 - categorical_accuracy: 0.7837 - val_loss: 0.1843 - val_categorical_accuracy: 0.7989\n",
      "Epoch 26/30\n",
      "23/23 [==============================] - 0s 18ms/step - loss: 0.1896 - categorical_accuracy: 0.7837 - val_loss: 0.1823 - val_categorical_accuracy: 0.7989\n",
      "Epoch 27/30\n",
      "23/23 [==============================] - 0s 18ms/step - loss: 0.1877 - categorical_accuracy: 0.7837 - val_loss: 0.1803 - val_categorical_accuracy: 0.7989\n",
      "Epoch 28/30\n",
      "23/23 [==============================] - 0s 17ms/step - loss: 0.1859 - categorical_accuracy: 0.7837 - val_loss: 0.1784 - val_categorical_accuracy: 0.7989\n",
      "Epoch 29/30\n",
      "23/23 [==============================] - 0s 17ms/step - loss: 0.1843 - categorical_accuracy: 0.7837 - val_loss: 0.1767 - val_categorical_accuracy: 0.7989\n",
      "Epoch 30/30\n",
      "23/23 [==============================] - 0s 17ms/step - loss: 0.1827 - categorical_accuracy: 0.7837 - val_loss: 0.1750 - val_categorical_accuracy: 0.7989\n"
     ]
    }
   ],
   "source": [
    "learning = model.fit(X_train_norm[..., np.newaxis], y_train_categorical, epochs=30, validation_split=0.2)"
   ],
   "metadata": {
    "collapsed": false,
    "ExecuteTime": {
     "start_time": "2023-05-29T18:43:13.322975Z",
     "end_time": "2023-05-29T18:43:25.531893Z"
    }
   }
  },
  {
   "cell_type": "code",
   "execution_count": 103,
   "outputs": [
    {
     "data": {
      "text/plain": "<Figure size 640x480 with 1 Axes>",
      "image/png": "[encoded data removed]"
     },
     "metadata": {},
     "output_type": "display_data"
    }
   ],
   "source": [
    "import matplotlib.pyplot as plt\n",
    "\n",
    "plt.plot(learning.history['loss'], label='loss')\n",
    "plt.plot(learning.history['val_loss'], label='val_loss')\n",
    "plt.legend()\n",
    "plt.show()"
   ],
   "metadata": {
    "collapsed": false,
    "ExecuteTime": {
     "start_time": "2023-05-29T18:37:43.820049Z",
     "end_time": "2023-05-29T18:37:43.995581Z"
    }
   }
  },
  {
   "cell_type": "code",
   "execution_count": 104,
   "outputs": [
    {
     "name": "stdout",
     "output_type": "stream",
     "text": [
      "14/14 [==============================] - 0s 3ms/step\n"
     ]
    },
    {
     "name": "stderr",
     "output_type": "stream",
     "text": [
      "C:\\Users\\serge\\PycharmProjects\\Titanic\\venv\\Lib\\site-packages\\tensorflow\\python\\data\\ops\\structured_function.py:254: UserWarning: Even though the `tf.config.experimental_run_functions_eagerly` option is set, this option does not apply to tf.data functions. To force eager execution of tf.data functions, please use `tf.data.experimental.enable_debug_mode()`.\n",
      "  warnings.warn(\n"
     ]
    }
   ],
   "source": [
    "X_test_norm = mms.transform(X_test_array)\n",
    "prediction = model.predict(X_test_norm[..., np.newaxis])"
   ],
   "metadata": {
    "collapsed": false,
    "ExecuteTime": {
     "start_time": "2023-05-29T18:37:43.996572Z",
     "end_time": "2023-05-29T18:37:44.101651Z"
    }
   }
  },
  {
   "cell_type": "code",
   "execution_count": 105,
   "outputs": [
    {
     "data": {
      "text/plain": "array([[0.8738633 , 0.12613672],\n       [0.4495046 , 0.55049545],\n       [0.78796417, 0.2120358 ],\n       [0.8738633 , 0.12613672],\n       [0.5102345 , 0.4897655 ],\n       [0.8738633 , 0.12613672],\n       [0.38042533, 0.61957467],\n       [0.7370836 , 0.26291636],\n       [0.38042533, 0.61957467],\n       [0.86384964, 0.13615033],\n       [0.8738633 , 0.12613672],\n       [0.67694956, 0.32305044],\n       [0.01072816, 0.9892719 ],\n       [0.7805266 , 0.21947344],\n       [0.01072816, 0.9892719 ],\n       [0.0853734 , 0.91462666],\n       [0.78796417, 0.2120358 ],\n       [0.8738633 , 0.12613672],\n       [0.4495046 , 0.55049545],\n       [0.38042533, 0.61957467],\n       [0.6560808 , 0.34391922],\n       [0.8452322 , 0.15476783],\n       [0.00878444, 0.9912156 ],\n       [0.6323271 , 0.36767286],\n       [0.02636103, 0.973639  ],\n       [0.8689377 , 0.13106228],\n       [0.01207896, 0.9879211 ],\n       [0.8738633 , 0.12613672],\n       [0.67694956, 0.32305044],\n       [0.86384964, 0.13615033],\n       [0.7805266 , 0.21947339],\n       [0.7729034 , 0.22709663],\n       [0.57066375, 0.42933616],\n       [0.57066375, 0.42933616],\n       [0.6560808 , 0.34391922],\n       [0.8738633 , 0.12613672],\n       [0.38042533, 0.61957467],\n       [0.38042533, 0.61957467],\n       [0.8738633 , 0.12613672],\n       [0.8738633 , 0.12613672],\n       [0.8452322 , 0.15476783],\n       [0.67694956, 0.32305044],\n       [0.8738633 , 0.12613672],\n       [0.06558632, 0.9344137 ],\n       [0.01072816, 0.9892719 ],\n       [0.8738633 , 0.12613672],\n       [0.67694956, 0.32305044],\n       [0.8738633 , 0.12613672],\n       [0.00878444, 0.9912156 ],\n       [0.4998724 , 0.5001277 ],\n       [0.6560808 , 0.34391922],\n       [0.78796417, 0.2120358 ],\n       [0.13672116, 0.8632788 ],\n       [0.0299805 , 0.97001946],\n       [0.78796417, 0.2120358 ],\n       [0.9018864 , 0.09811357],\n       [0.8738633 , 0.12613672],\n       [0.8738633 , 0.12613672],\n       [0.8689377 , 0.13106228],\n       [0.00878444, 0.9912156 ],\n       [0.8738633 , 0.12613672],\n       [0.78796417, 0.2120358 ],\n       [0.8738633 , 0.1261367 ],\n       [0.38042533, 0.61957467],\n       [0.5315016 , 0.46849844],\n       [0.06558632, 0.9344137 ],\n       [0.38042533, 0.61957467],\n       [0.67694956, 0.32305044],\n       [0.67694956, 0.32305044],\n       [0.03275421, 0.96724576],\n       [0.38042533, 0.61957467],\n       [0.8738633 , 0.12613672],\n       [0.38042533, 0.61957467],\n       [0.67694956, 0.32305044],\n       [0.00878444, 0.9912156 ],\n       [0.67694956, 0.32305044],\n       [0.8738633 , 0.12613672],\n       [0.01399144, 0.9860086 ],\n       [0.78796417, 0.2120358 ],\n       [0.38042533, 0.61957467],\n       [0.839394  , 0.16060597],\n       [0.6560808 , 0.34391922],\n       [0.67694956, 0.32305044],\n       [0.8738633 , 0.12613672],\n       [0.78796417, 0.2120358 ],\n       [0.8689377 , 0.13106228],\n       [0.38042533, 0.61957467],\n       [0.38042533, 0.61957467],\n       [0.38042533, 0.61957467],\n       [0.7370836 , 0.26291636],\n       [0.4495046 , 0.55049545],\n       [0.8738633 , 0.12613672],\n       [0.0202236 , 0.9797763 ],\n       [0.8738633 , 0.12613672],\n       [0.6769495 , 0.3230505 ],\n       [0.8738633 , 0.1261367 ],\n       [0.01072816, 0.9892719 ],\n       [0.8738633 , 0.12613672],\n       [0.38042533, 0.61957467],\n       [0.8738633 , 0.12613672],\n       [0.01072816, 0.9892719 ],\n       [0.7805266 , 0.21947344],\n       [0.8738633 , 0.12613672],\n       [0.8738633 , 0.12613672],\n       [0.5102345 , 0.4897655 ],\n       [0.8738633 , 0.12613672],\n       [0.8738633 , 0.12613672],\n       [0.8738633 , 0.12613672],\n       [0.8738633 , 0.12613672],\n       [0.78796417, 0.2120358 ],\n       [0.78796417, 0.2120358 ],\n       [0.38042533, 0.61957467],\n       [0.00878444, 0.9912156 ],\n       [0.38042533, 0.61957467],\n       [0.01072816, 0.9892719 ],\n       [0.8689377 , 0.13106228],\n       [0.8738633 , 0.12613672],\n       [0.5102345 , 0.4897655 ],\n       [0.67694956, 0.32305044],\n       [0.0853734 , 0.91462666],\n       [0.06558632, 0.9344137 ],\n       [0.8689377 , 0.13106228],\n       [0.01072816, 0.9892719 ],\n       [0.8738633 , 0.12613672],\n       [0.8738633 , 0.12613672],\n       [0.43926954, 0.56073046],\n       [0.8738633 , 0.1261367 ],\n       [0.5205878 , 0.47941217],\n       [0.78796417, 0.2120358 ],\n       [0.8738633 , 0.12613672],\n       [0.8738633 , 0.12613672],\n       [0.67694956, 0.32305044],\n       [0.61933404, 0.38066605],\n       [0.8689377 , 0.13106228],\n       [0.8738633 , 0.12613672],\n       [0.8738633 , 0.12613672],\n       [0.8738633 , 0.12613672],\n       [0.78796417, 0.2120358 ],\n       [0.38042533, 0.61957467],\n       [0.8867229 , 0.11327711],\n       [0.7738132 , 0.22618678],\n       [0.00878444, 0.9912156 ],\n       [0.51314986, 0.48685014],\n       [0.78796417, 0.2120358 ],\n       [0.67694956, 0.32305044],\n       [0.8738192 , 0.12618081],\n       [0.67694956, 0.32305044],\n       [0.8738633 , 0.12613672],\n       [0.67694956, 0.32305044],\n       [0.7370836 , 0.26291636],\n       [0.01207896, 0.9879211 ],\n       [0.8738633 , 0.12613672],\n       [0.8738633 , 0.12613672],\n       [0.4998724 , 0.5001277 ],\n       [0.9096155 , 0.09038452],\n       [0.8738633 , 0.12613672],\n       [0.00878444, 0.9912156 ],\n       [0.38042533, 0.61957467],\n       [0.6769495 , 0.3230505 ],\n       [0.4998724 , 0.5001277 ],\n       [0.38042533, 0.61957467],\n       [0.839394  , 0.16060597],\n       [0.06558632, 0.9344137 ],\n       [0.8738633 , 0.12613672],\n       [0.78796417, 0.2120358 ],\n       [0.5102345 , 0.4897655 ],\n       [0.67694956, 0.32305044],\n       [0.8725515 , 0.12744847],\n       [0.00878444, 0.9912156 ],\n       [0.38042533, 0.61957467],\n       [0.8738633 , 0.12613672],\n       [0.8738633 , 0.12613672],\n       [0.8689377 , 0.13106228],\n       [0.8738633 , 0.12613672],\n       [0.88109577, 0.11890424],\n       [0.10253967, 0.8974603 ],\n       [0.06558632, 0.9344137 ],\n       [0.6560808 , 0.34391922],\n       [0.1290462 , 0.8709538 ],\n       [0.01658836, 0.98341167],\n       [0.78796417, 0.2120358 ],\n       [0.60060936, 0.39939064],\n       [0.01072816, 0.9892719 ],\n       [0.8738633 , 0.12613672],\n       [0.0147408 , 0.9852592 ],\n       [0.78796417, 0.2120358 ],\n       [0.08219158, 0.91780835],\n       [0.86384964, 0.13615033],\n       [0.85806787, 0.14193209],\n       [0.78796417, 0.2120358 ],\n       [0.7805266 , 0.21947339],\n       [0.6769495 , 0.3230505 ],\n       [0.839394  , 0.16060597],\n       [0.78796417, 0.2120358 ],\n       [0.69782305, 0.30217698],\n       [0.8738633 , 0.12613672],\n       [0.59627885, 0.40372118],\n       [0.38042533, 0.61957467],\n       [0.78796417, 0.2120358 ],\n       [0.38042533, 0.61957467],\n       [0.38042533, 0.61957467],\n       [0.82324225, 0.17675774],\n       [0.6560808 , 0.34391922],\n       [0.10641786, 0.89358217],\n       [0.78796417, 0.2120358 ],\n       [0.67694956, 0.32305044],\n       [0.38042533, 0.61957467],\n       [0.78796417, 0.2120358 ],\n       [0.00878444, 0.9912156 ],\n       [0.8738633 , 0.12613672],\n       [0.8738633 , 0.12613672],\n       [0.8738633 , 0.12613672],\n       [0.78796417, 0.2120358 ],\n       [0.0853734 , 0.91462666],\n       [0.7388849 , 0.26111504],\n       [0.67694956, 0.32305044],\n       [0.38042533, 0.61957467],\n       [0.60060936, 0.39939064],\n       [0.0147408 , 0.9852592 ],\n       [0.8738633 , 0.12613672],\n       [0.0853734 , 0.91462666],\n       [0.8738633 , 0.12613672],\n       [0.06558634, 0.9344137 ],\n       [0.8738633 , 0.1261367 ],\n       [0.00878444, 0.9912156 ],\n       [0.4998724 , 0.5001277 ],\n       [0.8738633 , 0.12613672],\n       [0.38042533, 0.61957467],\n       [0.8738633 , 0.12613672],\n       [0.78796417, 0.2120358 ],\n       [0.78796417, 0.2120358 ],\n       [0.00878444, 0.9912156 ],\n       [0.8689377 , 0.13106228],\n       [0.8738633 , 0.12613672],\n       [0.6560808 , 0.34391922],\n       [0.8738633 , 0.12613672],\n       [0.6560808 , 0.34391922],\n       [0.8738633 , 0.12613672],\n       [0.10641786, 0.89358217],\n       [0.01072816, 0.9892719 ],\n       [0.00878444, 0.9912156 ],\n       [0.10253967, 0.8974603 ],\n       [0.60060936, 0.39939064],\n       [0.8738633 , 0.12613672],\n       [0.8495518 , 0.15044819],\n       [0.6560808 , 0.34391922],\n       [0.06558632, 0.9344137 ],\n       [0.7370836 , 0.26291636],\n       [0.0853734 , 0.91462666],\n       [0.4495046 , 0.55049545],\n       [0.13190162, 0.8680984 ],\n       [0.8738633 , 0.12613672],\n       [0.6560808 , 0.34391922],\n       [0.8738633 , 0.12613672],\n       [0.8738633 , 0.1261367 ],\n       [0.8738633 , 0.1261367 ],\n       [0.8738633 , 0.12613672],\n       [0.8738633 , 0.12613672],\n       [0.06558632, 0.9344137 ],\n       [0.8738633 , 0.12613672],\n       [0.8689377 , 0.13106228],\n       [0.8738633 , 0.12613672],\n       [0.10253967, 0.8974603 ],\n       [0.5102345 , 0.4897655 ],\n       [0.78796417, 0.2120358 ],\n       [0.8738633 , 0.12613672],\n       [0.67694956, 0.32305044],\n       [0.8738633 , 0.12613672],\n       [0.38042533, 0.61957467],\n       [0.8738633 , 0.12613672],\n       [0.67694956, 0.32305044],\n       [0.8738633 , 0.12613672],\n       [0.01072816, 0.9892719 ],\n       [0.4495046 , 0.55049545],\n       [0.8738633 , 0.12613672],\n       [0.0853734 , 0.91462666],\n       [0.78796417, 0.2120358 ],\n       [0.7805266 , 0.21947344],\n       [0.7805266 , 0.21947344],\n       [0.78796417, 0.2120358 ],\n       [0.38042533, 0.61957467],\n       [0.839394  , 0.16060597],\n       [0.38042533, 0.61957467],\n       [0.5102345 , 0.4897655 ],\n       [0.5102345 , 0.4897655 ],\n       [0.8738633 , 0.12613672],\n       [0.8738633 , 0.1261367 ],\n       [0.6560808 , 0.34391922],\n       [0.8738633 , 0.12613672],\n       [0.8738633 , 0.12613672],\n       [0.67694956, 0.32305044],\n       [0.38042533, 0.61957467],\n       [0.8738633 , 0.12613672],\n       [0.60060936, 0.39939064],\n       [0.8738633 , 0.12613672],\n       [0.8738633 , 0.12613672],\n       [0.13190162, 0.8680984 ],\n       [0.86384964, 0.13615033],\n       [0.67694956, 0.32305044],\n       [0.8738633 , 0.12613672],\n       [0.8738633 , 0.12613672],\n       [0.78796417, 0.2120358 ],\n       [0.74551344, 0.25448662],\n       [0.8738633 , 0.12613672],\n       [0.38042533, 0.61957467],\n       [0.0147408 , 0.9852592 ],\n       [0.5510318 , 0.44896814],\n       [0.8452322 , 0.15476783],\n       [0.60060936, 0.39939064],\n       [0.4495046 , 0.55049545],\n       [0.8738633 , 0.12613672],\n       [0.8738633 , 0.12613672],\n       [0.8738633 , 0.12613672],\n       [0.38042533, 0.61957467],\n       [0.00878444, 0.9912156 ],\n       [0.38042533, 0.61957467],\n       [0.6560808 , 0.34391922],\n       [0.78796417, 0.2120358 ],\n       [0.8738633 , 0.1261367 ],\n       [0.7729034 , 0.22709663],\n       [0.8738633 , 0.12613672],\n       [0.8738633 , 0.12613672],\n       [0.78796417, 0.2120358 ],\n       [0.67694956, 0.32305044],\n       [0.00878444, 0.9912156 ],\n       [0.8738633 , 0.12613672],\n       [0.13672116, 0.8632788 ],\n       [0.67694956, 0.32305044],\n       [0.7805266 , 0.21947344],\n       [0.78796417, 0.2120358 ],\n       [0.10253967, 0.8974603 ],\n       [0.67694956, 0.32305044],\n       [0.8738633 , 0.12613672],\n       [0.5102345 , 0.4897655 ],\n       [0.8738633 , 0.12613672],\n       [0.67694956, 0.32305044],\n       [0.78796417, 0.2120358 ],\n       [0.82324225, 0.17675774],\n       [0.78796417, 0.2120358 ],\n       [0.8738633 , 0.12613672],\n       [0.78796417, 0.2120358 ],\n       [0.8738633 , 0.12613672],\n       [0.8843634 , 0.11563658],\n       [0.01207896, 0.9879211 ],\n       [0.839394  , 0.16060597],\n       [0.38042533, 0.61957467],\n       [0.78796417, 0.2120358 ],\n       [0.38042533, 0.61957467],\n       [0.78796417, 0.2120358 ],\n       [0.06558632, 0.9344137 ],\n       [0.01207896, 0.9879211 ],\n       [0.78796417, 0.21203586],\n       [0.78796417, 0.2120358 ],\n       [0.68847364, 0.3115263 ],\n       [0.57066375, 0.42933616],\n       [0.67694956, 0.32305044],\n       [0.01399144, 0.9860086 ],\n       [0.8738633 , 0.12613672],\n       [0.8738633 , 0.12613672],\n       [0.4495046 , 0.55049545],\n       [0.94561774, 0.05438229],\n       [0.10641786, 0.89358217],\n       [0.06558632, 0.9344137 ],\n       [0.8738633 , 0.12613672],\n       [0.01072816, 0.9892719 ],\n       [0.7954926 , 0.20450734],\n       [0.8689377 , 0.13106228],\n       [0.38042533, 0.61957467],\n       [0.01207896, 0.9879211 ],\n       [0.78796417, 0.2120358 ],\n       [0.7805266 , 0.21947344],\n       [0.00878444, 0.9912156 ],\n       [0.67694956, 0.32305044],\n       [0.78796417, 0.2120358 ],\n       [0.0147408 , 0.9852592 ],\n       [0.00878444, 0.9912156 ],\n       [0.5205878 , 0.4794122 ],\n       [0.78796417, 0.2120358 ],\n       [0.67694956, 0.32305044],\n       [0.9096155 , 0.09038452],\n       [0.8738633 , 0.12613672],\n       [0.8738633 , 0.12613672],\n       [0.38042533, 0.61957467],\n       [0.4495046 , 0.55049545],\n       [0.78796417, 0.2120358 ],\n       [0.13190162, 0.8680984 ],\n       [0.8738633 , 0.12613672],\n       [0.78796417, 0.2120358 ],\n       [0.8738633 , 0.12613672],\n       [0.8834736 , 0.11652641],\n       [0.67694956, 0.32305044],\n       [0.01207896, 0.9879211 ],\n       [0.82324225, 0.17675774],\n       [0.78796417, 0.2120358 ],\n       [0.8834736 , 0.11652641],\n       [0.01072816, 0.9892719 ],\n       [0.8738633 , 0.12613672],\n       [0.0147408 , 0.9852592 ],\n       [0.8738633 , 0.12613672],\n       [0.8738633 , 0.12613672],\n       [0.00878444, 0.9912156 ],\n       [0.7805266 , 0.21947344],\n       [0.01207896, 0.9879211 ],\n       [0.67694956, 0.32305044],\n       [0.6560808 , 0.34391922],\n       [0.78796417, 0.2120358 ],\n       [0.7805266 , 0.21947344],\n       [0.60060936, 0.39939064],\n       [0.38042533, 0.61957467],\n       [0.5102345 , 0.4897655 ],\n       [0.38042533, 0.61957467],\n       [0.01072816, 0.9892719 ],\n       [0.38042533, 0.61957467],\n       [0.8738633 , 0.12613672],\n       [0.00878444, 0.9912156 ],\n       [0.8738633 , 0.1261367 ],\n       [0.8738633 , 0.1261367 ],\n       [0.839394  , 0.160606  ]], dtype=float32)"
     },
     "execution_count": 105,
     "metadata": {},
     "output_type": "execute_result"
    }
   ],
   "source": [
    "prediction"
   ],
   "metadata": {
    "collapsed": false,
    "ExecuteTime": {
     "start_time": "2023-05-29T18:37:44.095683Z",
     "end_time": "2023-05-29T18:37:44.108914Z"
    }
   }
  },
  {
   "cell_type": "code",
   "execution_count": 106,
   "outputs": [],
   "source": [
    "labels = np.argmax(prediction, axis=1)"
   ],
   "metadata": {
    "collapsed": false,
    "ExecuteTime": {
     "start_time": "2023-05-29T18:37:44.110900Z",
     "end_time": "2023-05-29T18:37:44.113288Z"
    }
   }
  },
  {
   "cell_type": "code",
   "execution_count": 107,
   "outputs": [
    {
     "data": {
      "text/plain": "array([0, 1, 0, 0, 0, 0, 1, 0, 1, 0, 0, 0, 1, 0, 1, 1, 0, 0, 1, 1, 0, 0,\n       1, 0, 1, 0, 1, 0, 0, 0, 0, 0, 0, 0, 0, 0, 1, 1, 0, 0, 0, 0, 0, 1,\n       1, 0, 0, 0, 1, 1, 0, 0, 1, 1, 0, 0, 0, 0, 0, 1, 0, 0, 0, 1, 0, 1,\n       1, 0, 0, 1, 1, 0, 1, 0, 1, 0, 0, 1, 0, 1, 0, 0, 0, 0, 0, 0, 1, 1,\n       1, 0, 1, 0, 1, 0, 0, 0, 1, 0, 1, 0, 1, 0, 0, 0, 0, 0, 0, 0, 0, 0,\n       0, 1, 1, 1, 1, 0, 0, 0, 0, 1, 1, 0, 1, 0, 0, 1, 0, 0, 0, 0, 0, 0,\n       0, 0, 0, 0, 0, 0, 1, 0, 0, 1, 0, 0, 0, 0, 0, 0, 0, 0, 1, 0, 0, 1,\n       0, 0, 1, 1, 0, 1, 1, 0, 1, 0, 0, 0, 0, 0, 1, 1, 0, 0, 0, 0, 0, 1,\n       1, 0, 1, 1, 0, 0, 1, 0, 1, 0, 1, 0, 0, 0, 0, 0, 0, 0, 0, 0, 0, 1,\n       0, 1, 1, 0, 0, 1, 0, 0, 1, 0, 1, 0, 0, 0, 0, 1, 0, 0, 1, 0, 1, 0,\n       1, 0, 1, 0, 1, 1, 0, 1, 0, 0, 0, 1, 0, 0, 0, 0, 0, 0, 1, 1, 1, 1,\n       0, 0, 0, 0, 1, 0, 1, 1, 1, 0, 0, 0, 0, 0, 0, 0, 1, 0, 0, 0, 1, 0,\n       0, 0, 0, 0, 1, 0, 0, 0, 1, 1, 0, 1, 0, 0, 0, 0, 1, 0, 1, 0, 0, 0,\n       0, 0, 0, 0, 0, 1, 0, 0, 0, 0, 1, 0, 0, 0, 0, 0, 0, 0, 1, 1, 0, 0,\n       0, 1, 0, 0, 0, 1, 1, 1, 0, 0, 0, 0, 0, 0, 0, 0, 1, 0, 1, 0, 0, 0,\n       1, 0, 0, 0, 0, 0, 0, 0, 0, 0, 0, 0, 0, 1, 0, 1, 0, 1, 0, 1, 1, 0,\n       0, 0, 0, 0, 1, 0, 0, 1, 0, 1, 1, 0, 1, 0, 0, 1, 1, 0, 0, 1, 0, 0,\n       1, 1, 0, 0, 0, 0, 0, 0, 1, 1, 0, 1, 0, 0, 0, 0, 0, 1, 0, 0, 0, 1,\n       0, 1, 0, 0, 1, 0, 1, 0, 0, 0, 0, 0, 1, 0, 1, 1, 1, 0, 1, 0, 0, 0],\n      dtype=int64)"
     },
     "execution_count": 107,
     "metadata": {},
     "output_type": "execute_result"
    }
   ],
   "source": [
    "labels"
   ],
   "metadata": {
    "collapsed": false,
    "ExecuteTime": {
     "start_time": "2023-05-29T18:37:44.117750Z",
     "end_time": "2023-05-29T18:37:44.150081Z"
    }
   }
  },
  {
   "cell_type": "code",
   "execution_count": 108,
   "outputs": [],
   "source": [
    "output = pd.DataFrame({'PassengerId': test_data.PassengerId, 'Survived': labels})"
   ],
   "metadata": {
    "collapsed": false,
    "ExecuteTime": {
     "start_time": "2023-05-29T18:37:44.125105Z",
     "end_time": "2023-05-29T18:37:44.150576Z"
    }
   }
  },
  {
   "cell_type": "code",
   "execution_count": 109,
   "outputs": [
    {
     "data": {
      "text/plain": "     PassengerId  Survived\n0            892         0\n1            893         1\n2            894         0\n3            895         0\n4            896         0\n..           ...       ...\n413         1305         0\n414         1306         1\n415         1307         0\n416         1308         0\n417         1309         0\n\n[418 rows x 2 columns]",
      "text/html": "<div>\n<style scoped>\n    .dataframe tbody tr th:only-of-type {\n        vertical-align: middle;\n    }\n\n    .dataframe tbody tr th {\n        vertical-align: top;\n    }\n\n    .dataframe thead th {\n        text-align: right;\n    }\n</style>\n<table border=\"1\" class=\"dataframe\">\n  <thead>\n    <tr style=\"text-align: right;\">\n      <th></th>\n      <th>PassengerId</th>\n      <th>Survived</th>\n    </tr>\n  </thead>\n  <tbody>\n    <tr>\n      <th>0</th>\n      <td>892</td>\n      <td>0</td>\n    </tr>\n    <tr>\n      <th>1</th>\n      <td>893</td>\n      <td>1</td>\n    </tr>\n    <tr>\n      <th>2</th>\n      <td>894</td>\n      <td>0</td>\n    </tr>\n    <tr>\n      <th>3</th>\n      <td>895</td>\n      <td>0</td>\n    </tr>\n    <tr>\n      <th>4</th>\n      <td>896</td>\n      <td>0</td>\n    </tr>\n    <tr>\n      <th>...</th>\n      <td>...</td>\n      <td>...</td>\n    </tr>\n    <tr>\n      <th>413</th>\n      <td>1305</td>\n      <td>0</td>\n    </tr>\n    <tr>\n      <th>414</th>\n      <td>1306</td>\n      <td>1</td>\n    </tr>\n    <tr>\n      <th>415</th>\n      <td>1307</td>\n      <td>0</td>\n    </tr>\n    <tr>\n      <th>416</th>\n      <td>1308</td>\n      <td>0</td>\n    </tr>\n    <tr>\n      <th>417</th>\n      <td>1309</td>\n      <td>0</td>\n    </tr>\n  </tbody>\n</table>\n<p>418 rows × 2 columns</p>\n</div>"
     },
     "execution_count": 109,
     "metadata": {},
     "output_type": "execute_result"
    }
   ],
   "source": [
    "output"
   ],
   "metadata": {
    "collapsed": false,
    "ExecuteTime": {
     "start_time": "2023-05-29T18:37:44.129608Z",
     "end_time": "2023-05-29T18:37:44.151568Z"
    }
   }
  },
  {
   "cell_type": "code",
   "execution_count": 110,
   "outputs": [],
   "source": [
    "output.to_csv('submission.csv', index=False)"
   ],
   "metadata": {
    "collapsed": false,
    "ExecuteTime": {
     "start_time": "2023-05-29T18:37:44.142216Z",
     "end_time": "2023-05-29T18:37:44.151568Z"
    }
   }
  }
 ],
 "metadata": {
  "kernelspec": {
   "display_name": "Python 3",
   "language": "python",
   "name": "python3"
  },
  "language_info": {
   "codemirror_mode": {
    "name": "ipython",
    "version": 2
   },
   "file_extension": ".py",
   "mimetype": "text/x-python",
   "name": "python",
   "nbconvert_exporter": "python",
   "pygments_lexer": "ipython2",
   "version": "2.7.6"
  }
 },
 "nbformat": 4,
 "nbformat_minor": 0
}
